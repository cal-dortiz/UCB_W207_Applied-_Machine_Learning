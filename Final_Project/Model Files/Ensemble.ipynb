{
 "cells": [
  {
   "cell_type": "markdown",
   "metadata": {},
   "source": [
    "# Ensemble Model"
   ]
  },
  {
   "cell_type": "markdown",
   "metadata": {},
   "source": [
    "### Import Packages and Data"
   ]
  },
  {
   "cell_type": "code",
   "execution_count": 36,
   "metadata": {},
   "outputs": [],
   "source": [
    "import pandas as pd\n",
    "import numpy as np\n",
    "from sklearn import preprocessing\n",
    "from sklearn.model_selection import train_test_split\n",
    "from sklearn.preprocessing import MinMaxScaler\n",
    "from sklearn.metrics import mean_squared_error\n",
    "from sklearn.metrics import mean_squared_log_error\n",
    "from sklearn.neighbors import KNeighborsClassifier\n",
    "from sklearn.ensemble import RandomForestClassifier\n",
    "from sklearn.ensemble import AdaBoostRegressor\n",
    "import matplotlib.pyplot as plt"
   ]
  },
  {
   "cell_type": "code",
   "execution_count": 2,
   "metadata": {},
   "outputs": [],
   "source": [
    "# Import train data\n",
    "train_data_url = 'https://raw.githubusercontent.com/cal-dortiz/W207_Applied-_Machine_Learning/main/Final_Project/Data/train.csv'\n",
    "df_train = pd.read_csv(train_data_url)"
   ]
  },
  {
   "cell_type": "markdown",
   "metadata": {},
   "source": [
    "### General Data Cleansing"
   ]
  },
  {
   "cell_type": "code",
   "execution_count": 3,
   "metadata": {},
   "outputs": [
    {
     "data": {
      "text/plain": [
       "PoolQC          1453\n",
       "MiscFeature     1406\n",
       "Alley           1369\n",
       "Fence           1179\n",
       "FireplaceQu      690\n",
       "LotFrontage      259\n",
       "GarageCond        81\n",
       "GarageType        81\n",
       "GarageYrBlt       81\n",
       "GarageFinish      81\n",
       "GarageQual        81\n",
       "BsmtExposure      38\n",
       "BsmtFinType2      38\n",
       "BsmtFinType1      37\n",
       "BsmtCond          37\n",
       "BsmtQual          37\n",
       "MasVnrArea         8\n",
       "MasVnrType         8\n",
       "Electrical         1\n",
       "Utilities          0\n",
       "dtype: int64"
      ]
     },
     "execution_count": 3,
     "metadata": {},
     "output_type": "execute_result"
    }
   ],
   "source": [
    "# Check missing data\n",
    "df_train.isnull().sum().sort_values(ascending = False).head(20)"
   ]
  },
  {
   "cell_type": "code",
   "execution_count": 4,
   "metadata": {},
   "outputs": [],
   "source": [
    "# Remove \"Junk\" columns\n",
    "df_train = df_train.drop(columns=['Id', 'MiscFeature'])\n",
    "\n",
    "# Drop the row with the missing electrical data\n",
    "df_train = df_train.dropna( how='any', subset=['Electrical'])"
   ]
  },
  {
   "cell_type": "code",
   "execution_count": 5,
   "metadata": {},
   "outputs": [
    {
     "name": "stderr",
     "output_type": "stream",
     "text": [
      "/Users/danielortiz/opt/anaconda3/lib/python3.8/site-packages/pandas/core/series.py:4563: SettingWithCopyWarning: \n",
      "A value is trying to be set on a copy of a slice from a DataFrame\n",
      "\n",
      "See the caveats in the documentation: https://pandas.pydata.org/pandas-docs/stable/user_guide/indexing.html#returning-a-view-versus-a-copy\n",
      "  return super().replace(\n"
     ]
    }
   ],
   "source": [
    "#Describe numerical variables\n",
    "NumDataSet = df_train.select_dtypes(exclude='O')\n",
    "\n",
    "\n",
    "#Describe categorical variables\n",
    "CatDataSet = df_train.select_dtypes(include='O')\n",
    "Categorical_Cols = CatDataSet.columns.tolist()\n",
    "Categorical_Cols\n",
    "\n",
    "Numerical_Cols = NumDataSet.columns.tolist()\n",
    "Numerical_Cols \n",
    "\n",
    "\n",
    "#Within categorical variables, there are several categories that are not \n",
    "#purely nominal/unordered but insteted are ordered categories - In other\n",
    "#words, they are ordinal but have text values, not numerical values. We separate\n",
    "#these into a new category\n",
    "\n",
    "Ordered_Category = CatDataSet[['ExterQual','ExterCond','BsmtQual','BsmtCond',\n",
    "                   'HeatingQC','KitchenQual','FireplaceQu','GarageQual','GarageCond']].copy()\n",
    "\n",
    "    \n",
    "#Remove these columns from the categorical dataset, which will now include only\n",
    "#unordered categories\n",
    "CatDataSet = CatDataSet.drop(['ExterQual','ExterCond','BsmtQual','BsmtCond', 'HeatingQC','KitchenQual','FireplaceQu','GarageQual','GarageCond'], axis = 'columns')\n",
    "\n",
    "\n",
    "#4.2.2 Convert all cateogrical values to numeric values\n",
    "#For ordered category data, use the ordinal encoder from sklearn.\n",
    "#Given a dataset with unique features, we let the encoder find the unique values per feature and transform the data to an ordinal encoding.\n",
    "Ordered_Category['ExterQual'].replace(to_replace=['Ex', 'Gd', 'TA', 'Fa', 'Po', np.nan], value=[5, 4, 3, 2, 1, 0], inplace=True)\n",
    "Ordered_Category['ExterCond'].replace(to_replace=['Ex', 'Gd', 'TA', 'Fa', 'Po', np.nan], value=[5, 4, 3, 2, 1, 0], inplace=True)\n",
    "Ordered_Category['BsmtQual'].replace(to_replace=['Ex', 'Gd', 'TA', 'Fa', 'Po', np.nan], value=[5, 4, 3, 2, 1, 0], inplace=True)\n",
    "Ordered_Category['BsmtCond'].replace(to_replace=['Ex', 'Gd', 'TA', 'Fa', 'Po', np.nan], value=[5, 4, 3, 2, 1, 0], inplace=True)\n",
    "Ordered_Category['HeatingQC'].replace(to_replace=['Ex', 'Gd', 'TA', 'Fa', 'Po', np.nan], value=[5, 4, 3, 2, 1, 0], inplace=True)\n",
    "Ordered_Category['KitchenQual'].replace(to_replace=['Ex', 'Gd', 'TA', 'Fa', 'Po', np.nan], value=[5, 4, 3, 2, 1, 0], inplace=True)\n",
    "Ordered_Category['FireplaceQu'].replace(to_replace=['Ex', 'Gd', 'TA', 'Fa', 'Po', np.nan], value=[5, 4, 3, 2, 1, 0], inplace=True)\n",
    "Ordered_Category['GarageQual'].replace(to_replace=['Ex', 'Gd', 'TA', 'Fa', 'Po', np.nan], value=[5, 4, 3, 2, 1, 0], inplace=True)\n",
    "Ordered_Category['GarageCond'].replace(to_replace=['Ex', 'Gd', 'TA', 'Fa', 'Po', np.nan], value=[5, 4, 3, 2, 1, 0], inplace=True)\n",
    "NumDataSet['GarageYrBlt'].replace(to_replace=[np.nan], value=[0], inplace=True)\n",
    "NumDataSet['LotFrontage'].replace(to_replace=[np.nan], value=[0], inplace=True)\n",
    "NumDataSet['MasVnrArea'].replace(to_replace=[np.nan], value=[0], inplace=True)"
   ]
  },
  {
   "cell_type": "code",
   "execution_count": 6,
   "metadata": {},
   "outputs": [],
   "source": [
    "# Encode Catagorical data\n",
    "\n",
    "le = preprocessing.LabelEncoder()\n",
    "\n",
    "#For categorical data, use LabelEncoder to categorize the variables.\n",
    "for col in CatDataSet:\n",
    "    i = CatDataSet.columns.get_loc(col)\n",
    "    CatDataSet.iloc[:,i] = CatDataSet.apply(lambda i:le.fit_transform(i.astype(str)), axis=0, result_type='expand')\n",
    "\n",
    "# glue data sets together\n",
    "df_train2 = pd.concat((CatDataSet, Ordered_Category, NumDataSet), axis=1, join='inner')"
   ]
  },
  {
   "cell_type": "code",
   "execution_count": 7,
   "metadata": {},
   "outputs": [
    {
     "data": {
      "text/plain": [
       "SalePrice        0\n",
       "PavedDrive       0\n",
       "BsmtFinType2     0\n",
       "Heating          0\n",
       "CentralAir       0\n",
       "Electrical       0\n",
       "Functional       0\n",
       "GarageType       0\n",
       "GarageFinish     0\n",
       "PoolQC           0\n",
       "BsmtExposure     0\n",
       "Fence            0\n",
       "SaleType         0\n",
       "SaleCondition    0\n",
       "ExterQual        0\n",
       "ExterCond        0\n",
       "BsmtQual         0\n",
       "BsmtCond         0\n",
       "BsmtFinType1     0\n",
       "Foundation       0\n",
       "dtype: int64"
      ]
     },
     "execution_count": 7,
     "metadata": {},
     "output_type": "execute_result"
    }
   ],
   "source": [
    "#See if there are any nulls left.\n",
    "df_train2.isnull().sum().sort_values(ascending = False).head(20)"
   ]
  },
  {
   "cell_type": "markdown",
   "metadata": {},
   "source": [
    "## KNN"
   ]
  },
  {
   "cell_type": "markdown",
   "metadata": {},
   "source": [
    "### KNN Model Preprocessing"
   ]
  },
  {
   "cell_type": "code",
   "execution_count": 11,
   "metadata": {},
   "outputs": [],
   "source": [
    "# Copy Dataset for KNN\n",
    "knn_train = df_train2.copy()"
   ]
  },
  {
   "cell_type": "code",
   "execution_count": 12,
   "metadata": {},
   "outputs": [],
   "source": [
    "# Encode labels\n",
    "#knn_enc = preprocessing.LabelEncoder()\n",
    "#knn_train['SalePrice'] = knn_enc.fit_transform(knn_train['SalePrice'])\n",
    "\n",
    "use_cols=list(knn_train.columns)\n",
    "use_cols.remove('SalePrice')\n",
    "\n",
    "knn_x_train, knn_x_test, knn_y_train, knn_y_test = train_test_split(knn_train[use_cols],knn_train['SalePrice'], \n",
    "                                                    test_size = 0.25, random_state = 2)"
   ]
  },
  {
   "cell_type": "code",
   "execution_count": 13,
   "metadata": {},
   "outputs": [
    {
     "data": {
      "text/plain": [
       "((1094, 78), (365, 78))"
      ]
     },
     "execution_count": 13,
     "metadata": {},
     "output_type": "execute_result"
    }
   ],
   "source": [
    "knn_x_train.shape, knn_x_test.shape"
   ]
  },
  {
   "cell_type": "code",
   "execution_count": 14,
   "metadata": {},
   "outputs": [],
   "source": [
    "knn_x_train = knn_x_train.to_numpy()\n",
    "knn_x_test = knn_x_test.to_numpy()\n",
    "knn_y_train = knn_y_train.to_numpy()\n",
    "knny_test = knn_y_test.to_numpy()\n",
    "k_values = range(1,len(knn_x_train[0]))"
   ]
  },
  {
   "cell_type": "markdown",
   "metadata": {},
   "source": [
    "### KNN Model"
   ]
  },
  {
   "cell_type": "code",
   "execution_count": 15,
   "metadata": {},
   "outputs": [],
   "source": [
    "#Initiate KNN Classifier and set the number of neighbors \n",
    "nn = KNeighborsClassifier(n_neighbors = 1)\n",
    "    \n",
    "# Fit KNN Model\n",
    "nn.fit(knn_x_train, knn_y_train)\n",
    "    \n",
    "# Predict Lable\n",
    "knn_y_predict_values = nn.predict(knn_x_test)"
   ]
  },
  {
   "cell_type": "code",
   "execution_count": 16,
   "metadata": {},
   "outputs": [
    {
     "name": "stdout",
     "output_type": "stream",
     "text": [
      "KNN RMSE = 0.09560935737002291\n"
     ]
    }
   ],
   "source": [
    "knn_rmse = mean_squared_error(np.log(knn_y_test),\n",
    "                              np.log(knn_y_predict_values))\n",
    "                                     \n",
    "print('KNN RMSE =', knn_rmse)\n"
   ]
  },
  {
   "cell_type": "markdown",
   "metadata": {},
   "source": [
    "## Random Forest"
   ]
  },
  {
   "cell_type": "markdown",
   "metadata": {},
   "source": [
    "### Random Forest Model Data PreProcessing"
   ]
  },
  {
   "cell_type": "code",
   "execution_count": 21,
   "metadata": {},
   "outputs": [],
   "source": [
    "# Copy Dataset for RF\n",
    "rf_train = df_train2.copy()"
   ]
  },
  {
   "cell_type": "code",
   "execution_count": 22,
   "metadata": {},
   "outputs": [],
   "source": [
    "# Encode labels\n",
    "#lab_enc = preprocessing.LabelEncoder()\n",
    "#knn_train['SalePrice'] = lab_enc.fit_transform(knn_train['SalePrice'])\n",
    "\n",
    "use_cols=list(rf_train.columns)\n",
    "use_cols.remove('SalePrice')\n",
    "\n",
    "rf_x_train, rf_x_test, rf_y_train, rf_y_test = train_test_split(rf_train[use_cols],rf_train['SalePrice'], \n",
    "                                                    test_size = 0.25, random_state = 2)"
   ]
  },
  {
   "cell_type": "code",
   "execution_count": 23,
   "metadata": {},
   "outputs": [
    {
     "data": {
      "text/plain": [
       "((1094, 78), (365, 78))"
      ]
     },
     "execution_count": 23,
     "metadata": {},
     "output_type": "execute_result"
    }
   ],
   "source": [
    "rf_x_train.shape, rf_x_test.shape"
   ]
  },
  {
   "cell_type": "markdown",
   "metadata": {},
   "source": [
    "### RF Model"
   ]
  },
  {
   "cell_type": "code",
   "execution_count": 26,
   "metadata": {},
   "outputs": [],
   "source": [
    "# Initiate model\n",
    "clf = RandomForestClassifier(n_estimators=123)\n",
    "\n",
    "# Train Model\n",
    "clf.fit(rf_x_train, rf_y_train)\n",
    "\n",
    "# Predict Labels\n",
    "rf_prediction = clf.predict(rf_x_test)\n"
   ]
  },
  {
   "cell_type": "code",
   "execution_count": 27,
   "metadata": {},
   "outputs": [
    {
     "name": "stdout",
     "output_type": "stream",
     "text": [
      "KNN RMSE = 0.09560935737002291\n"
     ]
    }
   ],
   "source": [
    "rf_rmse = mean_squared_error(np.log(knn_y_test),\n",
    "                              np.log(knn_y_predict_values))\n",
    "                                     \n",
    "print('Random Forrest RMSE =', rf_rmse)"
   ]
  },
  {
   "cell_type": "markdown",
   "metadata": {},
   "source": [
    "## AdaBoost Classifier"
   ]
  },
  {
   "cell_type": "markdown",
   "metadata": {},
   "source": [
    "### AdaBoost PreProcess"
   ]
  },
  {
   "cell_type": "code",
   "execution_count": 33,
   "metadata": {},
   "outputs": [],
   "source": [
    "# Copy Dataset for RF\n",
    "abc_train = df_train2.copy()"
   ]
  },
  {
   "cell_type": "code",
   "execution_count": 34,
   "metadata": {},
   "outputs": [],
   "source": [
    "# Encode labels\n",
    "#lab_enc = preprocessing.LabelEncoder()\n",
    "#knn_train['SalePrice'] = lab_enc.fit_transform(knn_train['SalePrice'])\n",
    "\n",
    "use_cols=list(abc_train.columns)\n",
    "use_cols.remove('SalePrice')\n",
    "\n",
    "abc_x_train, abc_x_test, abc_y_train, abc_y_test = train_test_split(abc_train[use_cols],abc_train['SalePrice'], \n",
    "                                                                    test_size = 0.25, random_state = 2)"
   ]
  },
  {
   "cell_type": "markdown",
   "metadata": {},
   "source": [
    "###  Adaboost Model"
   ]
  },
  {
   "cell_type": "code",
   "execution_count": 39,
   "metadata": {},
   "outputs": [],
   "source": [
    "# Initiate Model\n",
    "clf = AdaBoostRegressor(n_estimators=28)\n",
    "\n",
    "# Train Model\n",
    "clf.fit(abc_x_train, abc_y_train)\n",
    "\n",
    "# Predict Labels\n",
    "abc_prediction = clf.predict(abc_x_test)"
   ]
  },
  {
   "cell_type": "code",
   "execution_count": 40,
   "metadata": {},
   "outputs": [
    {
     "name": "stdout",
     "output_type": "stream",
     "text": [
      "Random Forrest RMSE = 0.09560935737002291\n"
     ]
    }
   ],
   "source": [
    "abc_rmse = mean_squared_error(np.log(knn_y_test),\n",
    "                              np.log(knn_y_predict_values))\n",
    "                                     \n",
    "print('Random Forrest RMSE =', abc_rmse)"
   ]
  },
  {
   "cell_type": "markdown",
   "metadata": {},
   "source": [
    "## Linear Regression"
   ]
  },
  {
   "cell_type": "markdown",
   "metadata": {},
   "source": [
    "## Ensemble"
   ]
  },
  {
   "cell_type": "code",
   "execution_count": 41,
   "metadata": {},
   "outputs": [],
   "source": [
    "ensemble_value = []\n",
    "\n",
    "for i in range(len(knn_y_test)):\n",
    "    ensemble_value.append((knn_y_predict_values[i] + \n",
    "                           rf_prediction[i] +\n",
    "                           abc_prediction[i])/3)"
   ]
  },
  {
   "cell_type": "code",
   "execution_count": 42,
   "metadata": {},
   "outputs": [
    {
     "name": "stdout",
     "output_type": "stream",
     "text": [
      "0.034662754242944745\n"
     ]
    }
   ],
   "source": [
    "rmse = mean_squared_error(np.log(knn_y_test),\n",
    "                          np.log(ensemble_value))\n",
    "\n",
    "print(rmse)"
   ]
  },
  {
   "cell_type": "code",
   "execution_count": null,
   "metadata": {},
   "outputs": [],
   "source": []
  }
 ],
 "metadata": {
  "kernelspec": {
   "display_name": "Python 3",
   "language": "python",
   "name": "python3"
  },
  "language_info": {
   "codemirror_mode": {
    "name": "ipython",
    "version": 3
   },
   "file_extension": ".py",
   "mimetype": "text/x-python",
   "name": "python",
   "nbconvert_exporter": "python",
   "pygments_lexer": "ipython3",
   "version": "3.8.5"
  }
 },
 "nbformat": 4,
 "nbformat_minor": 4
}
