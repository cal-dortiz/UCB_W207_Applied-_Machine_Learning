{
 "cells": [
  {
   "cell_type": "markdown",
   "metadata": {},
   "source": [
    "# Ensemble Model"
   ]
  },
  {
   "cell_type": "markdown",
   "metadata": {},
   "source": [
    "In this notebook we pulled together all of our models, averaged the results, and then run the root-mean-squared calculation."
   ]
  },
  {
   "cell_type": "markdown",
   "metadata": {},
   "source": [
    "### Import Packages and Data"
   ]
  },
  {
   "cell_type": "code",
   "execution_count": 70,
   "metadata": {},
   "outputs": [],
   "source": [
    "#brew install libomp\n",
    "#pip install xgboost"
   ]
  },
  {
   "cell_type": "code",
   "execution_count": 71,
   "metadata": {},
   "outputs": [],
   "source": [
    "import pandas as pd\n",
    "import numpy as np\n",
    "import xgboost as xgb\n",
    "from sklearn import preprocessing\n",
    "from sklearn.model_selection import train_test_split\n",
    "from sklearn.preprocessing import MinMaxScaler\n",
    "from sklearn.metrics import mean_squared_error\n",
    "from sklearn.metrics import mean_squared_log_error\n",
    "from sklearn.neighbors import KNeighborsClassifier\n",
    "from sklearn.ensemble import RandomForestClassifier\n",
    "from sklearn.ensemble import AdaBoostRegressor\n",
    "from sklearn.preprocessing import StandardScaler\n",
    "from sklearn.linear_model import LinearRegression, ElasticNet, Lasso\n",
    "from sklearn.linear_model import RidgeCV\n",
    "from sklearn.linear_model import ElasticNetCV\n",
    "from sklearn.linear_model import LassoCV\n",
    "from sklearn.ensemble import GradientBoostingRegressor\n",
    "from xgboost import XGBRegressor\n",
    "import matplotlib.pyplot as plt"
   ]
  },
  {
   "cell_type": "code",
   "execution_count": 72,
   "metadata": {},
   "outputs": [],
   "source": [
    "# Import train data\n",
    "train_data_url = 'https://raw.githubusercontent.com/cal-dortiz/W207_Applied-_Machine_Learning/main/Final_Project/Data/train.csv'\n",
    "df_train = pd.read_csv(train_data_url)"
   ]
  },
  {
   "cell_type": "markdown",
   "metadata": {},
   "source": [
    "### General Data Cleansing"
   ]
  },
  {
   "cell_type": "code",
   "execution_count": 73,
   "metadata": {},
   "outputs": [
    {
     "data": {
      "text/plain": [
       "PoolQC          1453\n",
       "MiscFeature     1406\n",
       "Alley           1369\n",
       "Fence           1179\n",
       "FireplaceQu      690\n",
       "LotFrontage      259\n",
       "GarageCond        81\n",
       "GarageType        81\n",
       "GarageYrBlt       81\n",
       "GarageFinish      81\n",
       "GarageQual        81\n",
       "BsmtExposure      38\n",
       "BsmtFinType2      38\n",
       "BsmtFinType1      37\n",
       "BsmtCond          37\n",
       "BsmtQual          37\n",
       "MasVnrArea         8\n",
       "MasVnrType         8\n",
       "Electrical         1\n",
       "Utilities          0\n",
       "dtype: int64"
      ]
     },
     "execution_count": 73,
     "metadata": {},
     "output_type": "execute_result"
    }
   ],
   "source": [
    "# Check missing data\n",
    "df_train.isnull().sum().sort_values(ascending = False).head(20)"
   ]
  },
  {
   "cell_type": "code",
   "execution_count": 74,
   "metadata": {},
   "outputs": [],
   "source": [
    "# Remove \"Junk\" columns\n",
    "df_train = df_train.drop(columns=['Id', 'MiscFeature'])\n",
    "\n",
    "# Drop the row with the missing electrical data\n",
    "df_train = df_train.dropna( how='any', subset=['Electrical'])"
   ]
  },
  {
   "cell_type": "code",
   "execution_count": 75,
   "metadata": {},
   "outputs": [],
   "source": [
    "# Remove Outliers (based on data documentation pencil notes)\n",
    "df_train.drop(df_train[df_train.GrLivArea >= 4000].index, inplace=True)"
   ]
  },
  {
   "cell_type": "code",
   "execution_count": 76,
   "metadata": {},
   "outputs": [
    {
     "name": "stderr",
     "output_type": "stream",
     "text": [
      "/Users/danielortiz/opt/anaconda3/lib/python3.8/site-packages/pandas/core/series.py:4563: SettingWithCopyWarning: \n",
      "A value is trying to be set on a copy of a slice from a DataFrame\n",
      "\n",
      "See the caveats in the documentation: https://pandas.pydata.org/pandas-docs/stable/user_guide/indexing.html#returning-a-view-versus-a-copy\n",
      "  return super().replace(\n"
     ]
    }
   ],
   "source": [
    "#Describe numerical variables\n",
    "NumDataSet = df_train.select_dtypes(exclude='O')\n",
    "\n",
    "\n",
    "#Describe categorical variables\n",
    "CatDataSet = df_train.select_dtypes(include='O')\n",
    "Categorical_Cols = CatDataSet.columns.tolist()\n",
    "Categorical_Cols\n",
    "\n",
    "Numerical_Cols = NumDataSet.columns.tolist()\n",
    "Numerical_Cols \n",
    "\n",
    "\n",
    "#Within categorical variables, there are several categories that are not \n",
    "#purely nominal/unordered but insteted are ordered categories - In other\n",
    "#words, they are ordinal but have text values, not numerical values. We separate\n",
    "#these into a new category\n",
    "\n",
    "Ordered_Category = CatDataSet[['ExterQual','ExterCond','BsmtQual','BsmtCond',\n",
    "                   'HeatingQC','KitchenQual','FireplaceQu','GarageQual','GarageCond']].copy()\n",
    "\n",
    "    \n",
    "#Remove these columns from the categorical dataset, which will now include only\n",
    "#unordered categories\n",
    "CatDataSet = CatDataSet.drop(['ExterQual','ExterCond','BsmtQual','BsmtCond', 'HeatingQC','KitchenQual','FireplaceQu','GarageQual','GarageCond'], axis = 'columns')\n",
    "\n",
    "\n",
    "#4.2.2 Convert all cateogrical values to numeric values\n",
    "#For ordered category data, use the ordinal encoder from sklearn.\n",
    "#Given a dataset with unique features, we let the encoder find the unique values per feature and transform the data to an ordinal encoding.\n",
    "Ordered_Category['ExterQual'].replace(to_replace=['Ex', 'Gd', 'TA', 'Fa', 'Po', np.nan], value=[5, 4, 3, 2, 1, 0], inplace=True)\n",
    "Ordered_Category['ExterCond'].replace(to_replace=['Ex', 'Gd', 'TA', 'Fa', 'Po', np.nan], value=[5, 4, 3, 2, 1, 0], inplace=True)\n",
    "Ordered_Category['BsmtQual'].replace(to_replace=['Ex', 'Gd', 'TA', 'Fa', 'Po', np.nan], value=[5, 4, 3, 2, 1, 0], inplace=True)\n",
    "Ordered_Category['BsmtCond'].replace(to_replace=['Ex', 'Gd', 'TA', 'Fa', 'Po', np.nan], value=[5, 4, 3, 2, 1, 0], inplace=True)\n",
    "Ordered_Category['HeatingQC'].replace(to_replace=['Ex', 'Gd', 'TA', 'Fa', 'Po', np.nan], value=[5, 4, 3, 2, 1, 0], inplace=True)\n",
    "Ordered_Category['KitchenQual'].replace(to_replace=['Ex', 'Gd', 'TA', 'Fa', 'Po', np.nan], value=[5, 4, 3, 2, 1, 0], inplace=True)\n",
    "Ordered_Category['FireplaceQu'].replace(to_replace=['Ex', 'Gd', 'TA', 'Fa', 'Po', np.nan], value=[5, 4, 3, 2, 1, 0], inplace=True)\n",
    "Ordered_Category['GarageQual'].replace(to_replace=['Ex', 'Gd', 'TA', 'Fa', 'Po', np.nan], value=[5, 4, 3, 2, 1, 0], inplace=True)\n",
    "Ordered_Category['GarageCond'].replace(to_replace=['Ex', 'Gd', 'TA', 'Fa', 'Po', np.nan], value=[5, 4, 3, 2, 1, 0], inplace=True)\n",
    "NumDataSet['GarageYrBlt'].replace(to_replace=[np.nan], value=[0], inplace=True)\n",
    "NumDataSet['LotFrontage'].replace(to_replace=[np.nan], value=[0], inplace=True)\n",
    "NumDataSet['MasVnrArea'].replace(to_replace=[np.nan], value=[0], inplace=True)"
   ]
  },
  {
   "cell_type": "code",
   "execution_count": 77,
   "metadata": {},
   "outputs": [],
   "source": [
    "# Encode Catagorical data\n",
    "\n",
    "le = preprocessing.LabelEncoder()\n",
    "\n",
    "#For categorical data, use LabelEncoder to categorize the variables.\n",
    "for col in CatDataSet:\n",
    "    i = CatDataSet.columns.get_loc(col)\n",
    "    CatDataSet.iloc[:,i] = CatDataSet.apply(lambda i:le.fit_transform(i.astype(str)), axis=0, result_type='expand')\n",
    "    \n",
    "# glue data sets together\n",
    "df_train2 = pd.concat((CatDataSet, Ordered_Category, NumDataSet), axis=1, join='inner')"
   ]
  },
  {
   "cell_type": "code",
   "execution_count": 78,
   "metadata": {},
   "outputs": [
    {
     "data": {
      "text/plain": [
       "SalePrice        0\n",
       "PavedDrive       0\n",
       "BsmtFinType2     0\n",
       "Heating          0\n",
       "CentralAir       0\n",
       "Electrical       0\n",
       "Functional       0\n",
       "GarageType       0\n",
       "GarageFinish     0\n",
       "PoolQC           0\n",
       "BsmtExposure     0\n",
       "Fence            0\n",
       "SaleType         0\n",
       "SaleCondition    0\n",
       "ExterQual        0\n",
       "ExterCond        0\n",
       "BsmtQual         0\n",
       "BsmtCond         0\n",
       "BsmtFinType1     0\n",
       "Foundation       0\n",
       "dtype: int64"
      ]
     },
     "execution_count": 78,
     "metadata": {},
     "output_type": "execute_result"
    }
   ],
   "source": [
    "#See if there are any nulls left.\n",
    "df_train2.isnull().sum().sort_values(ascending = False).head(20)"
   ]
  },
  {
   "cell_type": "markdown",
   "metadata": {},
   "source": [
    "## KNN"
   ]
  },
  {
   "cell_type": "markdown",
   "metadata": {},
   "source": [
    "### KNN Model Preprocessing - NEED TO SCALE THIS!!!!"
   ]
  },
  {
   "cell_type": "code",
   "execution_count": 79,
   "metadata": {},
   "outputs": [],
   "source": [
    "# Copy Dataset for KNN\n",
    "knn_train = df_train2.copy()"
   ]
  },
  {
   "cell_type": "code",
   "execution_count": 80,
   "metadata": {},
   "outputs": [],
   "source": [
    "# Encode labels\n",
    "#knn_enc = preprocessing.LabelEncoder()\n",
    "#knn_train['SalePrice'] = knn_enc.fit_transform(knn_train['SalePrice'])\n",
    "\n",
    "use_cols=list(knn_train.columns)\n",
    "use_cols.remove('SalePrice')\n",
    "\n",
    "knn_x_train, knn_x_test, knn_y_train, knn_y_test = train_test_split(knn_train[use_cols],knn_train['SalePrice'], \n",
    "                                                    test_size = 0.25, random_state = 2)"
   ]
  },
  {
   "cell_type": "code",
   "execution_count": 81,
   "metadata": {},
   "outputs": [
    {
     "data": {
      "text/plain": [
       "((1091, 78), (364, 78))"
      ]
     },
     "execution_count": 81,
     "metadata": {},
     "output_type": "execute_result"
    }
   ],
   "source": [
    "knn_x_train.shape, knn_x_test.shape"
   ]
  },
  {
   "cell_type": "code",
   "execution_count": 82,
   "metadata": {},
   "outputs": [],
   "source": [
    "knn_x_train = knn_x_train.to_numpy()\n",
    "knn_x_test = knn_x_test.to_numpy()\n",
    "knn_y_train = knn_y_train.to_numpy()\n",
    "knny_test = knn_y_test.to_numpy()\n",
    "k_values = range(1,len(knn_x_train[0]))"
   ]
  },
  {
   "cell_type": "markdown",
   "metadata": {},
   "source": [
    "### KNN Model"
   ]
  },
  {
   "cell_type": "code",
   "execution_count": 83,
   "metadata": {},
   "outputs": [],
   "source": [
    "#Initiate KNN Classifier and set the number of neighbors \n",
    "nn = KNeighborsClassifier(n_neighbors = 1)\n",
    "    \n",
    "# Fit KNN Model\n",
    "nn.fit(knn_x_train, knn_y_train)\n",
    "    \n",
    "# Predict Lable\n",
    "knn_y_predict_values = nn.predict(knn_x_test)"
   ]
  },
  {
   "cell_type": "code",
   "execution_count": 84,
   "metadata": {},
   "outputs": [
    {
     "name": "stdout",
     "output_type": "stream",
     "text": [
      "KNN RMSE = 0.09322723804857086\n"
     ]
    }
   ],
   "source": [
    "knn_rmse = mean_squared_error(np.log(knn_y_test),\n",
    "                              np.log(knn_y_predict_values))\n",
    "                                     \n",
    "print('KNN RMSE =', knn_rmse)\n"
   ]
  },
  {
   "cell_type": "markdown",
   "metadata": {},
   "source": [
    "## Random Forest"
   ]
  },
  {
   "cell_type": "markdown",
   "metadata": {},
   "source": [
    "### Random Forest Model Data PreProcessing"
   ]
  },
  {
   "cell_type": "code",
   "execution_count": 16,
   "metadata": {},
   "outputs": [],
   "source": [
    "# Copy Dataset for RF\n",
    "rf_train = df_train2.copy()"
   ]
  },
  {
   "cell_type": "code",
   "execution_count": 17,
   "metadata": {},
   "outputs": [],
   "source": [
    "# Encode labels\n",
    "#lab_enc = preprocessing.LabelEncoder()\n",
    "#knn_train['SalePrice'] = lab_enc.fit_transform(knn_train['SalePrice'])\n",
    "\n",
    "use_cols=list(rf_train.columns)\n",
    "use_cols.remove('SalePrice')\n",
    "\n",
    "rf_x_train, rf_x_test, rf_y_train, rf_y_test = train_test_split(rf_train[use_cols],rf_train['SalePrice'], \n",
    "                                                    test_size = 0.25, random_state = 2)"
   ]
  },
  {
   "cell_type": "code",
   "execution_count": 18,
   "metadata": {},
   "outputs": [
    {
     "data": {
      "text/plain": [
       "((1091, 78), (364, 78))"
      ]
     },
     "execution_count": 18,
     "metadata": {},
     "output_type": "execute_result"
    }
   ],
   "source": [
    "rf_x_train.shape, rf_x_test.shape"
   ]
  },
  {
   "cell_type": "markdown",
   "metadata": {},
   "source": [
    "### RF Model"
   ]
  },
  {
   "cell_type": "code",
   "execution_count": 19,
   "metadata": {},
   "outputs": [],
   "source": [
    "# Initiate model\n",
    "clf = RandomForestClassifier(n_estimators=123)\n",
    "\n",
    "# Train Model\n",
    "clf.fit(rf_x_train, rf_y_train)\n",
    "\n",
    "# Predict Labels\n",
    "rf_prediction = clf.predict(rf_x_test)\n"
   ]
  },
  {
   "cell_type": "code",
   "execution_count": 20,
   "metadata": {},
   "outputs": [
    {
     "name": "stdout",
     "output_type": "stream",
     "text": [
      "Random Forrest RMSE = 0.09322723804857086\n"
     ]
    }
   ],
   "source": [
    "rf_rmse = mean_squared_error(np.log(knn_y_test),\n",
    "                              np.log(knn_y_predict_values))\n",
    "                                     \n",
    "print('Random Forrest RMSE =', rf_rmse)"
   ]
  },
  {
   "cell_type": "markdown",
   "metadata": {},
   "source": [
    "## AdaBoost Classifier"
   ]
  },
  {
   "cell_type": "markdown",
   "metadata": {},
   "source": [
    "### AdaBoost Classifier PreProcess"
   ]
  },
  {
   "cell_type": "code",
   "execution_count": 21,
   "metadata": {},
   "outputs": [],
   "source": [
    "# Copy Dataset for RF\n",
    "abc_train = df_train2.copy()"
   ]
  },
  {
   "cell_type": "code",
   "execution_count": 22,
   "metadata": {},
   "outputs": [],
   "source": [
    "# Encode labels\n",
    "#lab_enc = preprocessing.LabelEncoder()\n",
    "#knn_train['SalePrice'] = lab_enc.fit_transform(knn_train['SalePrice'])\n",
    "\n",
    "use_cols=list(abc_train.columns)\n",
    "use_cols.remove('SalePrice')\n",
    "\n",
    "abc_x_train, abc_x_test, abc_y_train, abc_y_test = train_test_split(abc_train[use_cols],abc_train['SalePrice'], \n",
    "                                                                    test_size = 0.25, random_state = 2)"
   ]
  },
  {
   "cell_type": "markdown",
   "metadata": {},
   "source": [
    "###  Adaboost Classifier Model"
   ]
  },
  {
   "cell_type": "code",
   "execution_count": 23,
   "metadata": {},
   "outputs": [],
   "source": [
    "# Initiate Model\n",
    "clf = AdaBoostRegressor(n_estimators=28)\n",
    "\n",
    "# Train Model\n",
    "clf.fit(abc_x_train, abc_y_train)\n",
    "\n",
    "# Predict Labels\n",
    "abc_prediction = clf.predict(abc_x_test)"
   ]
  },
  {
   "cell_type": "code",
   "execution_count": 24,
   "metadata": {},
   "outputs": [
    {
     "name": "stdout",
     "output_type": "stream",
     "text": [
      "Random Forrest RMSE = 0.09322723804857086\n"
     ]
    }
   ],
   "source": [
    "abc_rmse = mean_squared_error(np.log(knn_y_test),\n",
    "                              np.log(knn_y_predict_values))\n",
    "                                     \n",
    "print('Random Forrest RMSE =', abc_rmse)"
   ]
  },
  {
   "cell_type": "markdown",
   "metadata": {},
   "source": [
    "# Regression"
   ]
  },
  {
   "cell_type": "markdown",
   "metadata": {},
   "source": [
    "## Regression Preprocessing"
   ]
  },
  {
   "cell_type": "code",
   "execution_count": 25,
   "metadata": {},
   "outputs": [],
   "source": [
    "r_data = df_train2.copy()"
   ]
  },
  {
   "cell_type": "code",
   "execution_count": 26,
   "metadata": {},
   "outputs": [],
   "source": [
    "r_data = r_data.drop(columns=['PoolQC','Alley','Fence','TotalBsmtSF'])"
   ]
  },
  {
   "cell_type": "code",
   "execution_count": 27,
   "metadata": {},
   "outputs": [],
   "source": [
    "# Combine SqFt\n",
    "r_data['TotSqFt'] = r_data['1stFlrSF'] + r_data['2ndFlrSF']\n",
    "r_Data = r_data.drop(columns=['1stFlrSF','2ndFlrSF'])"
   ]
  },
  {
   "cell_type": "code",
   "execution_count": 28,
   "metadata": {},
   "outputs": [],
   "source": [
    "# Log Transforms of the data (more normal data distribution)\n",
    "r_data['SalePrice'] = np.log(r_data['SalePrice'])"
   ]
  },
  {
   "cell_type": "markdown",
   "metadata": {},
   "source": [
    "### Linear Regression Model"
   ]
  },
  {
   "cell_type": "markdown",
   "metadata": {},
   "source": [
    "#### Select Attributes for the model"
   ]
  },
  {
   "cell_type": "code",
   "execution_count": 29,
   "metadata": {},
   "outputs": [],
   "source": [
    "# Select model dependent and independent variables\n",
    "LR1Xtrain = pd.DataFrame(data=r_data,columns=['OverallQual', 'TotSqFt', 'GrLivArea', 'GarageCars', 'GarageArea', 'BsmtQual', 'FullBath', 'YearBuilt', 'YearRemodAdd'])\n",
    "LR1Ytrain = pd.DataFrame(data= r_data,columns=['SalePrice'])"
   ]
  },
  {
   "cell_type": "code",
   "execution_count": 30,
   "metadata": {},
   "outputs": [
    {
     "data": {
      "text/plain": [
       "array([[ 0.66501519,  0.42527296,  0.40945634, ...,  0.80080009,\n",
       "         1.05468111,  0.88141452],\n",
       "       [-0.06524677, -0.48507456, -0.49230299, ...,  0.80080009,\n",
       "         0.16027966, -0.42647479],\n",
       "       [ 0.66501519,  0.57970691,  0.56243337, ...,  0.80080009,\n",
       "         0.98842915,  0.83297417],\n",
       "       ...,\n",
       "       [ 0.66501519,  1.70544916,  1.67755539, ...,  0.80080009,\n",
       "        -0.99912964,  1.02673555],\n",
       "       [-0.79550874, -0.8589673 , -0.86266842, ..., -1.02547598,\n",
       "        -0.70099582,  0.5423321 ],\n",
       "       [-0.79550874, -0.49726672, -0.50438012, ..., -1.02547598,\n",
       "        -0.20410612, -0.95931858]])"
      ]
     },
     "execution_count": 30,
     "metadata": {},
     "output_type": "execute_result"
    }
   ],
   "source": [
    "# Scale Data\n",
    "lr_ss = StandardScaler()\n",
    "lr_ss.fit_transform(LR1Xtrain)"
   ]
  },
  {
   "cell_type": "code",
   "execution_count": 31,
   "metadata": {},
   "outputs": [
    {
     "data": {
      "text/plain": [
       "((1091, 9), (364, 9))"
      ]
     },
     "execution_count": 31,
     "metadata": {},
     "output_type": "execute_result"
    }
   ],
   "source": [
    "# Cut data into train and test\n",
    "lr_x_train, lr_x_test, lr_y_train, lr_y_test = train_test_split(LR1Xtrain, LR1Ytrain,\n",
    "                                                    test_size=0.25,random_state=2)\n",
    "\n",
    "lr_x_train.shape, lr_x_test.shape"
   ]
  },
  {
   "cell_type": "markdown",
   "metadata": {},
   "source": [
    "#### linear Regression Model"
   ]
  },
  {
   "cell_type": "code",
   "execution_count": 32,
   "metadata": {},
   "outputs": [],
   "source": [
    "# Initiate Model\n",
    "lr = LinearRegression()\n",
    "\n",
    "# Train Model\n",
    "lr.fit(lr_x_train, lr_y_train)\n",
    "\n",
    "# Predict Label\n",
    "lr_predict = lr.predict(lr_x_test)\n",
    "\n",
    "# De-scale data\n",
    "# Verify this is right\n",
    "lr_prediction = np.exp(lr_predict)"
   ]
  },
  {
   "cell_type": "code",
   "execution_count": 33,
   "metadata": {},
   "outputs": [
    {
     "name": "stdout",
     "output_type": "stream",
     "text": [
      "Linear Regression RMSE = 0.026558292311187268\n"
     ]
    }
   ],
   "source": [
    "lr_rmse = mean_squared_error(np.log(lr_prediction),\n",
    "                              lr_y_test)\n",
    "                                     \n",
    "print('Linear Regression RMSE =', lr_rmse)"
   ]
  },
  {
   "cell_type": "markdown",
   "metadata": {},
   "source": [
    "## Ridge Regression"
   ]
  },
  {
   "cell_type": "markdown",
   "metadata": {},
   "source": [
    "### Ridge Regression Preprocessing"
   ]
  },
  {
   "cell_type": "code",
   "execution_count": 34,
   "metadata": {},
   "outputs": [
    {
     "data": {
      "text/plain": [
       "((1091, 9), (364, 9))"
      ]
     },
     "execution_count": 34,
     "metadata": {},
     "output_type": "execute_result"
    }
   ],
   "source": [
    "# Select model dependent and independent variables\n",
    "rr1Xtrain = pd.DataFrame(data=r_data,columns=['OverallQual', 'TotSqFt', 'GrLivArea', 'GarageCars', 'GarageArea', 'BsmtQual', 'FullBath', 'YearBuilt', 'YearRemodAdd'])\n",
    "rr1Ytrain = pd.DataFrame(data= r_data,columns=['SalePrice'])\n",
    "\n",
    "# Scale Data\n",
    "rr_ss = StandardScaler()\n",
    "rr_ss.fit_transform(rr1Xtrain)\n",
    "\n",
    "# Cut data into train and test\n",
    "rr_x_train, rr_x_test, rr_y_train, rr_y_test = train_test_split(rr1Xtrain, rr1Ytrain,\n",
    "                                                    test_size=0.25,random_state=2)\n",
    "\n",
    "rr_x_train.shape, rr_x_test.shape"
   ]
  },
  {
   "cell_type": "markdown",
   "metadata": {},
   "source": [
    "### Ridge Regression Model"
   ]
  },
  {
   "cell_type": "code",
   "execution_count": 35,
   "metadata": {},
   "outputs": [],
   "source": [
    "# Initiate model\n",
    "ridge = RidgeCV(alphas=np.linspace(1, 200, 100))\n",
    "\n",
    "# Fit Model\n",
    "ridge_model = ridge.fit(rr_x_train, rr_y_train)\n",
    "\n",
    "# Predict label\n",
    "rr_predict = ridge_model.predict(rr_x_test)\n",
    "\n",
    "# Convert back to data value\n",
    "rr_prediction = np.exp(rr_predict)"
   ]
  },
  {
   "cell_type": "code",
   "execution_count": 36,
   "metadata": {},
   "outputs": [
    {
     "name": "stdout",
     "output_type": "stream",
     "text": [
      "Linear Regression RMSE = 0.02648945867526529\n"
     ]
    }
   ],
   "source": [
    "rr_rmse = mean_squared_error(np.log(rr_prediction),\n",
    "                             rr_y_test)\n",
    "                                     \n",
    "print('Linear Regression RMSE =', rr_rmse)"
   ]
  },
  {
   "cell_type": "markdown",
   "metadata": {},
   "source": [
    "## Elasticnet Regression"
   ]
  },
  {
   "cell_type": "markdown",
   "metadata": {},
   "source": [
    "### Elasticnet Preprocess"
   ]
  },
  {
   "cell_type": "code",
   "execution_count": 37,
   "metadata": {},
   "outputs": [
    {
     "data": {
      "text/plain": [
       "((1091, 9), (364, 9))"
      ]
     },
     "execution_count": 37,
     "metadata": {},
     "output_type": "execute_result"
    }
   ],
   "source": [
    "# Select model dependent and independent variables\n",
    "er1Xtrain = pd.DataFrame(data=r_data,columns=['OverallQual', 'TotSqFt', 'GrLivArea', 'GarageCars', 'GarageArea', 'BsmtQual', 'FullBath', 'YearBuilt', 'YearRemodAdd'])\n",
    "er1Ytrain = pd.DataFrame(data= r_data,columns=['SalePrice'])\n",
    "\n",
    "# Scale Data\n",
    "er_ss = StandardScaler()\n",
    "er_ss.fit_transform(er1Xtrain)\n",
    "\n",
    "# Cut data into train and test\n",
    "er_x_train, er_x_test, er_y_train, er_y_test = train_test_split(er1Xtrain, er1Ytrain,\n",
    "                                                    test_size=0.25,random_state=2)\n",
    "\n",
    "er_x_train.shape, er_x_test.shape"
   ]
  },
  {
   "cell_type": "markdown",
   "metadata": {},
   "source": [
    "### Elasticnet Model"
   ]
  },
  {
   "cell_type": "code",
   "execution_count": 38,
   "metadata": {},
   "outputs": [],
   "source": [
    "# Initiate Model\n",
    "enet_alphas = np.arange(0.01, 1.0, 0.005)\n",
    "enet_ratio = 0.5\n",
    "enet = ElasticNetCV(alphas=enet_alphas, l1_ratio=enet_ratio, cv=5, max_iter=5_000)\n",
    "\n",
    "# Train Model\n",
    "enet = enet.fit(er_x_train, np.ravel(er_y_train))\n",
    "\n",
    "# Predict Labels\n",
    "er_predict = enet.predict(er_x_test)\n",
    "\n",
    "# Convert back to data value\n",
    "er_prediction = np.exp(er_predict)"
   ]
  },
  {
   "cell_type": "code",
   "execution_count": 39,
   "metadata": {},
   "outputs": [
    {
     "name": "stdout",
     "output_type": "stream",
     "text": [
      "Elasticnet Model Regression RMSE = 0.026504229524769187\n"
     ]
    }
   ],
   "source": [
    "er_rmse = mean_squared_error(np.log(er_prediction),\n",
    "                             er_y_test)\n",
    "                                     \n",
    "print('Elasticnet Model Regression RMSE =', er_rmse)"
   ]
  },
  {
   "cell_type": "markdown",
   "metadata": {},
   "source": [
    "## Lasso Model"
   ]
  },
  {
   "cell_type": "markdown",
   "metadata": {},
   "source": [
    "### Lasso Model Preprocessing"
   ]
  },
  {
   "cell_type": "code",
   "execution_count": 40,
   "metadata": {},
   "outputs": [
    {
     "data": {
      "text/plain": [
       "((1091, 9), (364, 9))"
      ]
     },
     "execution_count": 40,
     "metadata": {},
     "output_type": "execute_result"
    }
   ],
   "source": [
    "# Select model dependent and independent variables\n",
    "lm1Xtrain = pd.DataFrame(data=r_data,columns=['OverallQual', 'TotSqFt', 'GrLivArea', 'GarageCars', 'GarageArea', 'BsmtQual', 'FullBath', 'YearBuilt', 'YearRemodAdd'])\n",
    "lm1Ytrain = pd.DataFrame(data= r_data,columns=['SalePrice'])\n",
    "\n",
    "# Scale Data\n",
    "lm_ss = StandardScaler()\n",
    "lm_ss.fit_transform(lm1Xtrain)\n",
    "\n",
    "# Cut data into train and test\n",
    "lm_x_train, lm_x_test, lm_y_train, lm_y_test = train_test_split(lm1Xtrain, lm1Ytrain,\n",
    "                                                    test_size=0.25,random_state=2)\n",
    "\n",
    "lm_x_train.shape, lm_x_test.shape"
   ]
  },
  {
   "cell_type": "markdown",
   "metadata": {},
   "source": [
    "### Lasso Model"
   ]
  },
  {
   "cell_type": "code",
   "execution_count": 41,
   "metadata": {},
   "outputs": [],
   "source": [
    "# Initiate Model\n",
    "lasso = LassoCV(n_alphas=100)\n",
    "\n",
    "# Trian Model\n",
    "lasso.fit(lm_x_train,np.ravel(lm_y_train))\n",
    "\n",
    "# Predict Labels\n",
    "lm_predict = lasso.predict(lm_x_test)\n",
    "\n",
    "# Convert back to data value\n",
    "lm_prediction = np.exp(lm_predict)"
   ]
  },
  {
   "cell_type": "code",
   "execution_count": 42,
   "metadata": {},
   "outputs": [
    {
     "name": "stdout",
     "output_type": "stream",
     "text": [
      "Lasso Model Regression RMSE = 0.035909927409052335\n"
     ]
    }
   ],
   "source": [
    "lm_rmse = mean_squared_error(np.log(lm_prediction),\n",
    "                             lm_y_test)\n",
    "                                     \n",
    "print('Lasso Model Regression RMSE =', lm_rmse)"
   ]
  },
  {
   "cell_type": "markdown",
   "metadata": {},
   "source": [
    "## Gradient Boost Model"
   ]
  },
  {
   "cell_type": "markdown",
   "metadata": {},
   "source": [
    "### Gradient Boost Preprocessing"
   ]
  },
  {
   "cell_type": "code",
   "execution_count": 43,
   "metadata": {},
   "outputs": [
    {
     "data": {
      "text/plain": [
       "((1091, 9), (364, 9))"
      ]
     },
     "execution_count": 43,
     "metadata": {},
     "output_type": "execute_result"
    }
   ],
   "source": [
    "# Select model dependent and independent variables\n",
    "gb1Xtrain = pd.DataFrame(data=r_data,columns=['OverallQual', 'TotSqFt', 'GrLivArea', 'GarageCars', 'GarageArea', 'BsmtQual', 'FullBath', 'YearBuilt', 'YearRemodAdd'])\n",
    "gb1Ytrain = pd.DataFrame(data= r_data,columns=['SalePrice'])\n",
    "\n",
    "# Scale Data\n",
    "gb_ss = StandardScaler()\n",
    "gb_ss.fit_transform(gb1Xtrain)\n",
    "\n",
    "# Cut data into train and test\n",
    "gb_x_train, gb_x_test, gb_y_train, gb_y_test = train_test_split(gb1Xtrain, gb1Ytrain,\n",
    "                                                    test_size=0.25,random_state=2)\n",
    "\n",
    "gb_x_train.shape, gb_x_test.shape"
   ]
  },
  {
   "cell_type": "markdown",
   "metadata": {},
   "source": [
    "### Gradient Boost Model"
   ]
  },
  {
   "cell_type": "code",
   "execution_count": 44,
   "metadata": {},
   "outputs": [],
   "source": [
    "# Initiate the model\n",
    "gbr = GradientBoostingRegressor(n_estimators=3000, learning_rate=0.05, random_state =85)\n",
    "\n",
    "# Train the Model\n",
    "gbr.fit(gb_x_train,np.ravel(gb_y_train))\n",
    "\n",
    "# Predict the labels\n",
    "gb_predict = gbr.predict(gb_x_test)\n",
    "\n",
    "# Transform back to values\n",
    "gb_prediction = np.exp(gb_predict)"
   ]
  },
  {
   "cell_type": "code",
   "execution_count": 45,
   "metadata": {},
   "outputs": [
    {
     "name": "stdout",
     "output_type": "stream",
     "text": [
      "Gradient Boost Model Regression RMSE = 0.03256724983099581\n"
     ]
    }
   ],
   "source": [
    "gb_rmse = mean_squared_error(np.log(gb_prediction),\n",
    "                             gb_y_test)\n",
    "                                     \n",
    "print('Gradient Boost Model Regression RMSE =', gb_rmse)"
   ]
  },
  {
   "cell_type": "markdown",
   "metadata": {},
   "source": [
    "## XG Boost Model"
   ]
  },
  {
   "cell_type": "markdown",
   "metadata": {},
   "source": [
    "## XG Boost Preprocessing"
   ]
  },
  {
   "cell_type": "code",
   "execution_count": 46,
   "metadata": {},
   "outputs": [
    {
     "data": {
      "text/plain": [
       "((1091, 9), (364, 9))"
      ]
     },
     "execution_count": 46,
     "metadata": {},
     "output_type": "execute_result"
    }
   ],
   "source": [
    "# Select model dependent and independent variables\n",
    "xg1Xtrain = pd.DataFrame(data=r_data,columns=['OverallQual', 'TotSqFt', 'GrLivArea', 'GarageCars', 'GarageArea', 'BsmtQual', 'FullBath', 'YearBuilt', 'YearRemodAdd'])\n",
    "xg1Ytrain = pd.DataFrame(data= r_data,columns=['SalePrice'])\n",
    "\n",
    "# Scale Dataa\n",
    "xg_ss = StandardScaler()\n",
    "xg_ss.fit_transform(xg1Xtrain)\n",
    "\n",
    "# Cut data into train and test\n",
    "xg_x_train, xg_x_test, xg_y_train, xg_y_test = train_test_split(xg1Xtrain, xg1Ytrain,\n",
    "                                                    test_size=0.25,random_state=2)\n",
    "\n",
    "xg_x_train.shape, xg_x_test.shape"
   ]
  },
  {
   "cell_type": "markdown",
   "metadata": {},
   "source": [
    "## XG Boost Model"
   ]
  },
  {
   "cell_type": "code",
   "execution_count": 51,
   "metadata": {},
   "outputs": [],
   "source": [
    "# Initiate Model\n",
    "xgboost = XGBRegressor(learning_rate=0.01, n_estimators=3000)\n",
    "\n",
    "# Train Model\n",
    "xgboost.fit(xg_x_train,xg_y_train)\n",
    "\n",
    "# Predict labels\n",
    "xg_predict = xgboost.predict(xg_x_test)\n",
    "\n",
    "# Transform back to values\n",
    "xg_prediction = np.exp(xg_predict)"
   ]
  },
  {
   "cell_type": "code",
   "execution_count": 52,
   "metadata": {},
   "outputs": [
    {
     "name": "stdout",
     "output_type": "stream",
     "text": [
      "XG Boost Model Regression RMSE = 0.028530390677932824\n"
     ]
    }
   ],
   "source": [
    "xg_rmse = mean_squared_error(np.log(xg_prediction),\n",
    "                             gb_y_test)\n",
    "                                     \n",
    "print('XG Boost Model Regression RMSE =', xg_rmse)"
   ]
  },
  {
   "cell_type": "markdown",
   "metadata": {},
   "source": [
    "## Ensemble"
   ]
  },
  {
   "cell_type": "code",
   "execution_count": 53,
   "metadata": {},
   "outputs": [],
   "source": [
    "ensemble_value = []\n",
    "\n",
    "for i in range(len(knn_y_test)):\n",
    "    ensemble_value.append((knn_y_predict_values[i] + \n",
    "                           rf_prediction[i] +\n",
    "                           abc_prediction[i] +\n",
    "                           lr_prediction[i] +\n",
    "                           rr_prediction[i] +\n",
    "                           er_prediction[i] +\n",
    "                           lm_prediction[i] +\n",
    "                           gb_prediction[i] +\n",
    "                           xg_prediction[i])/9)"
   ]
  },
  {
   "cell_type": "code",
   "execution_count": 54,
   "metadata": {},
   "outputs": [
    {
     "name": "stdout",
     "output_type": "stream",
     "text": [
      "0.021387022743764444\n"
     ]
    }
   ],
   "source": [
    "rmse = mean_squared_error(np.log(knn_y_test),\n",
    "                          np.log(ensemble_value))\n",
    "\n",
    "print(rmse)"
   ]
  }
 ],
 "metadata": {
  "kernelspec": {
   "display_name": "Python 3",
   "language": "python",
   "name": "python3"
  },
  "language_info": {
   "codemirror_mode": {
    "name": "ipython",
    "version": 3
   },
   "file_extension": ".py",
   "mimetype": "text/x-python",
   "name": "python",
   "nbconvert_exporter": "python",
   "pygments_lexer": "ipython3",
   "version": "3.7.3"
  }
 },
 "nbformat": 4,
 "nbformat_minor": 4
}
