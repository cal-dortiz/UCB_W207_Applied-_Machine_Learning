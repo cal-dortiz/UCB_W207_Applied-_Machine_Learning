{
 "cells": [
  {
   "cell_type": "markdown",
   "metadata": {},
   "source": [
    "# KNN Model"
   ]
  },
  {
   "cell_type": "markdown",
   "metadata": {},
   "source": [
    "## Import Packages"
   ]
  },
  {
   "cell_type": "code",
   "execution_count": 23,
   "metadata": {},
   "outputs": [],
   "source": [
    "import pandas as pd\n",
    "import numpy as np\n",
    "from sklearn import preprocessing\n",
    "from sklearn.model_selection import train_test_split\n",
    "from sklearn.preprocessing import MinMaxScaler\n",
    "from sklearn.metrics import mean_squared_error\n",
    "from sklearn.metrics import mean_squared_log_error\n",
    "from sklearn.neighbors import KNeighborsClassifier\n",
    "import matplotlib.pyplot as plt"
   ]
  },
  {
   "cell_type": "markdown",
   "metadata": {},
   "source": [
    "## Import Data"
   ]
  },
  {
   "cell_type": "code",
   "execution_count": 24,
   "metadata": {},
   "outputs": [],
   "source": [
    "# Import train data\n",
    "train_data_url = 'https://raw.githubusercontent.com/cal-dortiz/W207_Applied-_Machine_Learning/main/Final_Project/Data/train.csv'\n",
    "df_train = pd.read_csv(train_data_url)"
   ]
  },
  {
   "cell_type": "markdown",
   "metadata": {},
   "source": [
    " ### Process Data for KNN"
   ]
  },
  {
   "cell_type": "code",
   "execution_count": 25,
   "metadata": {},
   "outputs": [
    {
     "data": {
      "text/plain": [
       "PoolQC          1453\n",
       "MiscFeature     1406\n",
       "Alley           1369\n",
       "Fence           1179\n",
       "FireplaceQu      690\n",
       "LotFrontage      259\n",
       "GarageCond        81\n",
       "GarageType        81\n",
       "GarageYrBlt       81\n",
       "GarageFinish      81\n",
       "GarageQual        81\n",
       "BsmtExposure      38\n",
       "BsmtFinType2      38\n",
       "BsmtFinType1      37\n",
       "BsmtCond          37\n",
       "BsmtQual          37\n",
       "MasVnrArea         8\n",
       "MasVnrType         8\n",
       "Electrical         1\n",
       "Utilities          0\n",
       "dtype: int64"
      ]
     },
     "execution_count": 25,
     "metadata": {},
     "output_type": "execute_result"
    }
   ],
   "source": [
    "# Check missing data\n",
    "df_train.isnull().sum().sort_values(ascending = False).head(20)"
   ]
  },
  {
   "cell_type": "code",
   "execution_count": 26,
   "metadata": {},
   "outputs": [],
   "source": [
    "# Remove \"Junk\" columns\n",
    "df_train = df_train.drop(columns=['Id','LotFrontage', 'MiscFeature'])\n",
    "\n",
    "# Drop the row with the missing electrical data\n",
    "df_train = df_train.dropna( how='any', subset=['Electrical'])"
   ]
  },
  {
   "cell_type": "markdown",
   "metadata": {},
   "source": [
    "#### Transform Data Types\n",
    "\n",
    "There are three groups of data in the data set; Numerical, Ordinal, and Catagorical. We need to process each data type uniqly. We will scale the numerical data to mitigate any concern the attributes scale will have on the model. We will encode ordinal data in a scale ranging 0-5, preserving the catagories relations. We will ue dummy variables for the catagorical data."
   ]
  },
  {
   "cell_type": "code",
   "execution_count": 27,
   "metadata": {},
   "outputs": [],
   "source": [
    "# Log Transform (y) - Housign Sale Price\n",
    "df_train['SalePrice'] = np.log(df_train['SalePrice'])"
   ]
  },
  {
   "cell_type": "code",
   "execution_count": 28,
   "metadata": {},
   "outputs": [
    {
     "data": {
      "image/png": "[encoded data removed]",
      "text/plain": [
       "<Figure size 432x288 with 1 Axes>"
      ]
     },
     "metadata": {
      "needs_background": "light"
     },
     "output_type": "display_data"
    }
   ],
   "source": [
    "plt.hist(df_train['SalePrice'])\n",
    "plt.ylabel('Sale Price')\n",
    "plt.show()"
   ]
  },
  {
   "cell_type": "code",
   "execution_count": 29,
   "metadata": {},
   "outputs": [
    {
     "name": "stderr",
     "output_type": "stream",
     "text": [
      "/Users/danielortiz/opt/anaconda3/lib/python3.8/site-packages/pandas/core/series.py:4563: SettingWithCopyWarning: \n",
      "A value is trying to be set on a copy of a slice from a DataFrame\n",
      "\n",
      "See the caveats in the documentation: https://pandas.pydata.org/pandas-docs/stable/user_guide/indexing.html#returning-a-view-versus-a-copy\n",
      "  return super().replace(\n"
     ]
    }
   ],
   "source": [
    "#Describe numerical variables\n",
    "NumDataSet = df_train.select_dtypes(exclude='O')\n",
    "\n",
    "\n",
    "#Describe categorical variables\n",
    "CatDataSet = df_train.select_dtypes(include='O')\n",
    "Categorical_Cols = CatDataSet.columns.tolist()\n",
    "Categorical_Cols\n",
    "\n",
    "Numerical_Cols = NumDataSet.columns.tolist()\n",
    "Numerical_Cols \n",
    "\n",
    "\n",
    "#Within categorical variables, there are several categories that are not \n",
    "#purely nominal/unordered but insteted are ordered categories - In other\n",
    "#words, they are ordinal but have text values, not numerical values. We separate\n",
    "#these into a new category\n",
    "\n",
    "Ordered_Category = CatDataSet[['ExterQual','ExterCond','BsmtQual','BsmtCond',\n",
    "                   'HeatingQC','KitchenQual','FireplaceQu','GarageQual','GarageCond']].copy()\n",
    "\n",
    "    \n",
    "#Remove these columns from the categorical dataset, which will now include only\n",
    "#unordered categories\n",
    "CatDataSet = CatDataSet.drop(['ExterQual','ExterCond','BsmtQual','BsmtCond', 'HeatingQC','KitchenQual','FireplaceQu','GarageQual','GarageCond'], axis = 'columns')\n",
    "\n",
    "\n",
    "#4.2.2 Convert all cateogrical values to numeric values\n",
    "#For ordered category data, use the ordinal encoder from sklearn.\n",
    "#Given a dataset with unique features, we let the encoder find the unique values per feature and transform the data to an ordinal encoding.\n",
    "Ordered_Category['ExterQual'].replace(to_replace=['Ex', 'Gd', 'TA', 'Fa', 'Po', np.nan], value=[5, 4, 3, 2, 1, 0], inplace=True)\n",
    "Ordered_Category['ExterCond'].replace(to_replace=['Ex', 'Gd', 'TA', 'Fa', 'Po', np.nan], value=[5, 4, 3, 2, 1, 0], inplace=True)\n",
    "Ordered_Category['BsmtQual'].replace(to_replace=['Ex', 'Gd', 'TA', 'Fa', 'Po', np.nan], value=[5, 4, 3, 2, 1, 0], inplace=True)\n",
    "Ordered_Category['BsmtCond'].replace(to_replace=['Ex', 'Gd', 'TA', 'Fa', 'Po', np.nan], value=[5, 4, 3, 2, 1, 0], inplace=True)\n",
    "Ordered_Category['HeatingQC'].replace(to_replace=['Ex', 'Gd', 'TA', 'Fa', 'Po', np.nan], value=[5, 4, 3, 2, 1, 0], inplace=True)\n",
    "Ordered_Category['KitchenQual'].replace(to_replace=['Ex', 'Gd', 'TA', 'Fa', 'Po', np.nan], value=[5, 4, 3, 2, 1, 0], inplace=True)\n",
    "Ordered_Category['FireplaceQu'].replace(to_replace=['Ex', 'Gd', 'TA', 'Fa', 'Po', np.nan], value=[5, 4, 3, 2, 1, 0], inplace=True)\n",
    "Ordered_Category['GarageQual'].replace(to_replace=['Ex', 'Gd', 'TA', 'Fa', 'Po', np.nan], value=[5, 4, 3, 2, 1, 0], inplace=True)\n",
    "Ordered_Category['GarageCond'].replace(to_replace=['Ex', 'Gd', 'TA', 'Fa', 'Po', np.nan], value=[5, 4, 3, 2, 1, 0], inplace=True)\n",
    "NumDataSet['GarageYrBlt'].replace(to_replace=[np.nan], value=[0], inplace=True)\n",
    "NumDataSet['MasVnrArea'].replace(to_replace=[np.nan], value=[0], inplace=True)"
   ]
  },
  {
   "cell_type": "code",
   "execution_count": 30,
   "metadata": {},
   "outputs": [],
   "source": [
    "# Encode Catagorical data\n",
    "\n",
    "le = preprocessing.LabelEncoder()\n",
    "\n",
    "#For categorical data, use LabelEncoder to categorize the variables.\n",
    "for col in CatDataSet:\n",
    "    i = CatDataSet.columns.get_loc(col)\n",
    "    CatDataSet.iloc[:,i] = CatDataSet.apply(lambda i:le.fit_transform(i.astype(str)), axis=0, result_type='expand')\n",
    "\n",
    "# glue data sets together\n",
    "df_train2 = pd.concat((CatDataSet, Ordered_Category, NumDataSet), axis=1, join='inner')"
   ]
  },
  {
   "cell_type": "markdown",
   "metadata": {},
   "source": [
    "#### Verify data has been cleaned"
   ]
  },
  {
   "cell_type": "code",
   "execution_count": 31,
   "metadata": {},
   "outputs": [
    {
     "data": {
      "text/plain": [
       "SalePrice        0\n",
       "PavedDrive       0\n",
       "BsmtFinType2     0\n",
       "Heating          0\n",
       "CentralAir       0\n",
       "Electrical       0\n",
       "Functional       0\n",
       "GarageType       0\n",
       "GarageFinish     0\n",
       "PoolQC           0\n",
       "BsmtExposure     0\n",
       "Fence            0\n",
       "SaleType         0\n",
       "SaleCondition    0\n",
       "ExterQual        0\n",
       "ExterCond        0\n",
       "BsmtQual         0\n",
       "BsmtCond         0\n",
       "BsmtFinType1     0\n",
       "Foundation       0\n",
       "dtype: int64"
      ]
     },
     "execution_count": 31,
     "metadata": {},
     "output_type": "execute_result"
    }
   ],
   "source": [
    "#See if there are any nulls left.\n",
    "df_train2.isnull().sum().sort_values(ascending = False).head(20)"
   ]
  },
  {
   "cell_type": "markdown",
   "metadata": {},
   "source": [
    "## Break training data into training and test"
   ]
  },
  {
   "cell_type": "code",
   "execution_count": 33,
   "metadata": {},
   "outputs": [],
   "source": [
    "lab_enc = preprocessing.LabelEncoder()\n",
    "df_train2['SalePrice'] = lab_enc.fit_transform(df_train['SalePrice'])\n",
    "\n",
    "use_cols=list(df_train2.columns)\n",
    "use_cols.remove('SalePrice')\n",
    "\n",
    "x_train, x_test, y_train, y_test = train_test_split(df_train2[use_cols],df_train2['SalePrice'], \n",
    "                                                    test_size = 0.25, random_state = 2)"
   ]
  },
  {
   "cell_type": "code",
   "execution_count": 34,
   "metadata": {},
   "outputs": [
    {
     "data": {
      "text/plain": [
       "((1094, 77), (365, 77))"
      ]
     },
     "execution_count": 34,
     "metadata": {},
     "output_type": "execute_result"
    }
   ],
   "source": [
    "x_train.shape, x_test.shape"
   ]
  },
  {
   "cell_type": "markdown",
   "metadata": {},
   "source": [
    "### KNN Model"
   ]
  },
  {
   "cell_type": "code",
   "execution_count": 35,
   "metadata": {},
   "outputs": [],
   "source": [
    "x_train = x_train.to_numpy()\n",
    "x_test = x_test.to_numpy()\n",
    "y_train = y_train.to_numpy()\n",
    "y_test = y_test.to_numpy()"
   ]
  },
  {
   "cell_type": "code",
   "execution_count": 36,
   "metadata": {},
   "outputs": [],
   "source": [
    "k_values = range(1,len(x_train[0]))"
   ]
  },
  {
   "cell_type": "code",
   "execution_count": 38,
   "metadata": {},
   "outputs": [],
   "source": [
    "rmse = []\n",
    "\n",
    "for index in k_values:\n",
    "\n",
    "    #Initiate KNN Classifier and set the number of neighbors to the K_value\n",
    "    #array\n",
    "    nn = KNeighborsClassifier(n_neighbors = index)\n",
    "    \n",
    "    # Fit KNN Model\n",
    "    nn.fit(x_train, y_train)\n",
    "    \n",
    "    # Predict Lable\n",
    "    y_predict = nn.predict(x_test)\n",
    "    \n",
    "    # Calculate RMSE\n",
    "    rmse.append(mean_squared_error(lab_enc.inverse_transform(y_test), lab_enc.inverse_transform(y_predict)))"
   ]
  },
  {
   "cell_type": "code",
   "execution_count": 39,
   "metadata": {},
   "outputs": [
    {
     "data": {
      "text/plain": [
       "[<matplotlib.lines.Line2D at 0x7feaf832a550>]"
      ]
     },
     "execution_count": 39,
     "metadata": {},
     "output_type": "execute_result"
    },
    {
     "data": {
      "image/png": "[encoded data removed]",
      "text/plain": [
       "<Figure size 432x288 with 1 Axes>"
      ]
     },
     "metadata": {
      "needs_background": "light"
     },
     "output_type": "display_data"
    }
   ],
   "source": [
    "plt.plot(k_values, rmse, 'blue')\n",
    "#plt."
   ]
  },
  {
   "cell_type": "code",
   "execution_count": 40,
   "metadata": {},
   "outputs": [
    {
     "name": "stdout",
     "output_type": "stream",
     "text": [
      "0.09551967860410748\n"
     ]
    }
   ],
   "source": [
    "print(min(rmse))"
   ]
  },
  {
   "cell_type": "code",
   "execution_count": null,
   "metadata": {},
   "outputs": [],
   "source": []
  }
 ],
 "metadata": {
  "kernelspec": {
   "display_name": "Python 3",
   "language": "python",
   "name": "python3"
  },
  "language_info": {
   "codemirror_mode": {
    "name": "ipython",
    "version": 3
   },
   "file_extension": ".py",
   "mimetype": "text/x-python",
   "name": "python",
   "nbconvert_exporter": "python",
   "pygments_lexer": "ipython3",
   "version": "3.8.5"
  }
 },
 "nbformat": 4,
 "nbformat_minor": 4
}
