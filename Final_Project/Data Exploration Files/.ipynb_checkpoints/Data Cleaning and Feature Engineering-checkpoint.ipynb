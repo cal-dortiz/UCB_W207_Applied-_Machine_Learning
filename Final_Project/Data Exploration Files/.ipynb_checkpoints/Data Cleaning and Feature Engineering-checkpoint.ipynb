{
 "cells": [
  {
   "cell_type": "markdown",
   "metadata": {},
   "source": [
    "# Data Cleaning and Feature Engineering"
   ]
  },
  {
   "cell_type": "markdown",
   "metadata": {},
   "source": [
    "In this notebook we will perform all of the data cleaning and feature engineering that is as a precondition for running our regressions. Our output will be a dataset that is ready for regression analysis."
   ]
  },
  {
   "cell_type": "markdown",
   "metadata": {},
   "source": [
    "### I. Import Libraries, Packages, and Data"
   ]
  },
  {
   "cell_type": "code",
   "execution_count": 32,
   "metadata": {},
   "outputs": [],
   "source": [
    "#brew install libomp\n",
    "#pip install xgboost\n",
    "import pandas as pd\n",
    "import numpy as np\n",
    "from sklearn.naive_bayes import GaussianNB\n",
    "from sklearn.preprocessing import StandardScaler\n",
    "from sklearn.preprocessing import RobustScaler\n",
    "from sklearn.pipeline import make_pipeline\n",
    "from sklearn.linear_model import RidgeCV\n",
    "from sklearn.linear_model import LassoCV\n",
    "from sklearn.linear_model import ElasticNetCV\n",
    "from sklearn import svm\n",
    "from sklearn.model_selection import GridSearchCV\n",
    "from matplotlib.pylab import rcParams\n",
    "import xgboost as xgb\n",
    "from xgboost import XGBRegressor\n",
    "from sklearn.ensemble import GradientBoostingRegressor\n",
    "from sklearn.model_selection import cross_val_score\n",
    "from sklearn.metrics import mean_squared_error\n",
    "from sklearn.linear_model import LinearRegression, ElasticNet, Lasso\n",
    "from sklearn.model_selection import train_test_split\n",
    "from sklearn import preprocessing\n",
    "import seaborn as sns\n",
    "import matplotlib.pyplot as plt"
   ]
  },
  {
   "cell_type": "code",
   "execution_count": 8,
   "metadata": {},
   "outputs": [],
   "source": [
    "# Import data\n",
    "\n",
    "#Import training data\n",
    "train_data_url = 'https://raw.githubusercontent.com/cal-dortiz/W207_Applied-_Machine_Learning/main/Final_Project/Data/train.csv'\n",
    "df_train = pd.read_csv(train_data_url)\n",
    "\n",
    "#Import testing data\n",
    "test_data_url = 'https://raw.githubusercontent.com/cal-dortiz/W207_Applied-_Machine_Learning/main/Final_Project/Data/test.csv'\n",
    "df_test = pd.read_csv(test_data_url)\n"
   ]
  },
  {
   "cell_type": "code",
   "execution_count": 9,
   "metadata": {},
   "outputs": [
    {
     "data": {
      "text/html": [
       "<div>\n",
       "<style scoped>\n",
       "    .dataframe tbody tr th:only-of-type {\n",
       "        vertical-align: middle;\n",
       "    }\n",
       "\n",
       "    .dataframe tbody tr th {\n",
       "        vertical-align: top;\n",
       "    }\n",
       "\n",
       "    .dataframe thead th {\n",
       "        text-align: right;\n",
       "    }\n",
       "</style>\n",
       "<table border=\"1\" class=\"dataframe\">\n",
       "  <thead>\n",
       "    <tr style=\"text-align: right;\">\n",
       "      <th></th>\n",
       "      <th>Id</th>\n",
       "      <th>MSSubClass</th>\n",
       "      <th>MSZoning</th>\n",
       "      <th>LotFrontage</th>\n",
       "      <th>LotArea</th>\n",
       "      <th>Street</th>\n",
       "      <th>Alley</th>\n",
       "      <th>LotShape</th>\n",
       "      <th>LandContour</th>\n",
       "      <th>Utilities</th>\n",
       "      <th>...</th>\n",
       "      <th>PoolArea</th>\n",
       "      <th>PoolQC</th>\n",
       "      <th>Fence</th>\n",
       "      <th>MiscFeature</th>\n",
       "      <th>MiscVal</th>\n",
       "      <th>MoSold</th>\n",
       "      <th>YrSold</th>\n",
       "      <th>SaleType</th>\n",
       "      <th>SaleCondition</th>\n",
       "      <th>SalePrice</th>\n",
       "    </tr>\n",
       "  </thead>\n",
       "  <tbody>\n",
       "    <tr>\n",
       "      <th>0</th>\n",
       "      <td>1</td>\n",
       "      <td>60</td>\n",
       "      <td>RL</td>\n",
       "      <td>65.0</td>\n",
       "      <td>8450</td>\n",
       "      <td>Pave</td>\n",
       "      <td>NaN</td>\n",
       "      <td>Reg</td>\n",
       "      <td>Lvl</td>\n",
       "      <td>AllPub</td>\n",
       "      <td>...</td>\n",
       "      <td>0</td>\n",
       "      <td>NaN</td>\n",
       "      <td>NaN</td>\n",
       "      <td>NaN</td>\n",
       "      <td>0</td>\n",
       "      <td>2</td>\n",
       "      <td>2008</td>\n",
       "      <td>WD</td>\n",
       "      <td>Normal</td>\n",
       "      <td>208500</td>\n",
       "    </tr>\n",
       "    <tr>\n",
       "      <th>1</th>\n",
       "      <td>2</td>\n",
       "      <td>20</td>\n",
       "      <td>RL</td>\n",
       "      <td>80.0</td>\n",
       "      <td>9600</td>\n",
       "      <td>Pave</td>\n",
       "      <td>NaN</td>\n",
       "      <td>Reg</td>\n",
       "      <td>Lvl</td>\n",
       "      <td>AllPub</td>\n",
       "      <td>...</td>\n",
       "      <td>0</td>\n",
       "      <td>NaN</td>\n",
       "      <td>NaN</td>\n",
       "      <td>NaN</td>\n",
       "      <td>0</td>\n",
       "      <td>5</td>\n",
       "      <td>2007</td>\n",
       "      <td>WD</td>\n",
       "      <td>Normal</td>\n",
       "      <td>181500</td>\n",
       "    </tr>\n",
       "    <tr>\n",
       "      <th>2</th>\n",
       "      <td>3</td>\n",
       "      <td>60</td>\n",
       "      <td>RL</td>\n",
       "      <td>68.0</td>\n",
       "      <td>11250</td>\n",
       "      <td>Pave</td>\n",
       "      <td>NaN</td>\n",
       "      <td>IR1</td>\n",
       "      <td>Lvl</td>\n",
       "      <td>AllPub</td>\n",
       "      <td>...</td>\n",
       "      <td>0</td>\n",
       "      <td>NaN</td>\n",
       "      <td>NaN</td>\n",
       "      <td>NaN</td>\n",
       "      <td>0</td>\n",
       "      <td>9</td>\n",
       "      <td>2008</td>\n",
       "      <td>WD</td>\n",
       "      <td>Normal</td>\n",
       "      <td>223500</td>\n",
       "    </tr>\n",
       "    <tr>\n",
       "      <th>3</th>\n",
       "      <td>4</td>\n",
       "      <td>70</td>\n",
       "      <td>RL</td>\n",
       "      <td>60.0</td>\n",
       "      <td>9550</td>\n",
       "      <td>Pave</td>\n",
       "      <td>NaN</td>\n",
       "      <td>IR1</td>\n",
       "      <td>Lvl</td>\n",
       "      <td>AllPub</td>\n",
       "      <td>...</td>\n",
       "      <td>0</td>\n",
       "      <td>NaN</td>\n",
       "      <td>NaN</td>\n",
       "      <td>NaN</td>\n",
       "      <td>0</td>\n",
       "      <td>2</td>\n",
       "      <td>2006</td>\n",
       "      <td>WD</td>\n",
       "      <td>Abnorml</td>\n",
       "      <td>140000</td>\n",
       "    </tr>\n",
       "    <tr>\n",
       "      <th>4</th>\n",
       "      <td>5</td>\n",
       "      <td>60</td>\n",
       "      <td>RL</td>\n",
       "      <td>84.0</td>\n",
       "      <td>14260</td>\n",
       "      <td>Pave</td>\n",
       "      <td>NaN</td>\n",
       "      <td>IR1</td>\n",
       "      <td>Lvl</td>\n",
       "      <td>AllPub</td>\n",
       "      <td>...</td>\n",
       "      <td>0</td>\n",
       "      <td>NaN</td>\n",
       "      <td>NaN</td>\n",
       "      <td>NaN</td>\n",
       "      <td>0</td>\n",
       "      <td>12</td>\n",
       "      <td>2008</td>\n",
       "      <td>WD</td>\n",
       "      <td>Normal</td>\n",
       "      <td>250000</td>\n",
       "    </tr>\n",
       "  </tbody>\n",
       "</table>\n",
       "<p>5 rows × 81 columns</p>\n",
       "</div>"
      ],
      "text/plain": [
       "   Id  MSSubClass MSZoning  LotFrontage  LotArea Street Alley LotShape  \\\n",
       "0   1          60       RL         65.0     8450   Pave   NaN      Reg   \n",
       "1   2          20       RL         80.0     9600   Pave   NaN      Reg   \n",
       "2   3          60       RL         68.0    11250   Pave   NaN      IR1   \n",
       "3   4          70       RL         60.0     9550   Pave   NaN      IR1   \n",
       "4   5          60       RL         84.0    14260   Pave   NaN      IR1   \n",
       "\n",
       "  LandContour Utilities  ... PoolArea PoolQC Fence MiscFeature MiscVal MoSold  \\\n",
       "0         Lvl    AllPub  ...        0    NaN   NaN         NaN       0      2   \n",
       "1         Lvl    AllPub  ...        0    NaN   NaN         NaN       0      5   \n",
       "2         Lvl    AllPub  ...        0    NaN   NaN         NaN       0      9   \n",
       "3         Lvl    AllPub  ...        0    NaN   NaN         NaN       0      2   \n",
       "4         Lvl    AllPub  ...        0    NaN   NaN         NaN       0     12   \n",
       "\n",
       "  YrSold  SaleType  SaleCondition  SalePrice  \n",
       "0   2008        WD         Normal     208500  \n",
       "1   2007        WD         Normal     181500  \n",
       "2   2008        WD         Normal     223500  \n",
       "3   2006        WD        Abnorml     140000  \n",
       "4   2008        WD         Normal     250000  \n",
       "\n",
       "[5 rows x 81 columns]"
      ]
     },
     "execution_count": 9,
     "metadata": {},
     "output_type": "execute_result"
    }
   ],
   "source": [
    "#Display the training data set to ensure it was properly loaded\n",
    "df_train.head()"
   ]
  },
  {
   "cell_type": "code",
   "execution_count": 10,
   "metadata": {},
   "outputs": [
    {
     "data": {
      "text/plain": [
       "(1460, 81)"
      ]
     },
     "execution_count": 10,
     "metadata": {},
     "output_type": "execute_result"
    }
   ],
   "source": [
    "#View shape of dataset\n",
    "df_train.shape"
   ]
  },
  {
   "cell_type": "markdown",
   "metadata": {},
   "source": [
    "There are 81 columns in the training data set. While not shown, the test data includes 80 columns - and omits one critical column, SalePrice. We do not use the testing data in this analysis as without SalePrice it is impossible for us to determine how accurate our model can predict the housing prices assocaited with that data. We will instead use our training data, and split this into training and test data, which we will do later.\n",
    "\n",
    "Other attributes of the data that are apparent is that each row corresponds to a single house and its various features. We next proceed to clean the data and determine what data may be missing and what modifications need to be made before we can begin our analysis. "
   ]
  },
  {
   "cell_type": "markdown",
   "metadata": {},
   "source": [
    "### II. General Data Checking and Cleaning"
   ]
  },
  {
   "cell_type": "code",
   "execution_count": 11,
   "metadata": {},
   "outputs": [
    {
     "name": "stdout",
     "output_type": "stream",
     "text": [
      "Duplicate IDs: 0\n"
     ]
    }
   ],
   "source": [
    "#Check to ensure there are no duplicate IDs/double-counted data\n",
    "print('Duplicate IDs: {}'.format(df_train.duplicated('Id').sum()))"
   ]
  },
  {
   "cell_type": "markdown",
   "metadata": {},
   "source": [
    "### II.A. Data Removal"
   ]
  },
  {
   "cell_type": "markdown",
   "metadata": {},
   "source": [
    "Based on the exploritory data analysis in the prior file, we drop several attributes that have no identificbly useful relationship with sales price. This includes ID, MiscFeatures, as well as Pool Quality, Alley, Fence, and Total Basement Square Footage. We also remove rows that are missing a data when such instances appear unique."
   ]
  },
  {
   "cell_type": "code",
   "execution_count": 6,
   "metadata": {},
   "outputs": [],
   "source": [
    "# Remove columns without any identifiably useful relationship with sales price - ID and MiscFeatures.\n",
    "df_train = df_train.drop(columns=['Id', 'MiscFeature','PoolQC','Alley','Fence','TotalBsmtSF'])\n",
    "\n",
    "# Drop the row with the missing electrical data\n",
    "df_train = df_train.dropna( how='any', subset=['Electrical'])"
   ]
  },
  {
   "cell_type": "markdown",
   "metadata": {},
   "source": [
    "### II.B. New Category for Total SqFt"
   ]
  },
  {
   "cell_type": "markdown",
   "metadata": {},
   "source": [
    "Our prior EDA confirms that larger houses (in terms of overall square footage) are highly correlated with sale prices. We seek to take several steps to consolidate this relationsihp and avoid potential multicollinearity among different variables. \n",
    "\n",
    "The basement area is generally not used in assessing property value, and is likely to be highly correlated with the size of the first floor of the house. Meanwhile,  the square footage of the remainder of the house is generally very useful in appraising a house's value. As a result, we have previusly dropped the variable 'TotalBsmtSF' and create a new variable that calculates the square footage of the first and second floors into a single variable. \n",
    "\n",
    "Note that we will leave the basement data seperate, as we have no evidence as to whether the other basement attributes are useful in determining the sales price of houses. "
   ]
  },
  {
   "cell_type": "code",
   "execution_count": 12,
   "metadata": {},
   "outputs": [],
   "source": [
    "# Create new object for total square footage, TotSqFt\n",
    "df_train['TotSqFt'] = df_train['1stFlrSF'] + df_train['2ndFlrSF']\n",
    "df_train = df_train.drop(columns=['1stFlrSF','2ndFlrSF'])"
   ]
  },
  {
   "cell_type": "markdown",
   "metadata": {},
   "source": [
    "### II.C. Removal of Outliers"
   ]
  },
  {
   "cell_type": "markdown",
   "metadata": {},
   "source": [
    "The data docuentation (http://jse.amstat.org/v19n3/decock/DataDocumentation.txt) indicates the following:\n",
    "\"There are 5 observations that an instructor may wish to remove from the data set before giving it to students (a plot of SALE PRICE versus GR LIV AREA will indicate them quickly). Three of them are true outliers (Partial Sales that likely don’t represent actual market values) and two of them are simply unusual sales (very large houses priced relatively appropriately). I would recommend removing any houses with more than 4000 square feet from the data set (which eliminates these 5 unusual observations) before assigning it to students.\n",
    "\n",
    "Per this instruction, we remove the houses whose GrLivArea is greater than or equal to 4000 square feet."
   ]
  },
  {
   "cell_type": "code",
   "execution_count": 13,
   "metadata": {},
   "outputs": [],
   "source": [
    "# Remove Outliers - houses whose GrLivArea >= 4000 square feet \n",
    "df_train.drop(df_train[df_train.GrLivArea >= 4000].index, inplace=True)"
   ]
  },
  {
   "cell_type": "markdown",
   "metadata": {},
   "source": [
    "## III. Data Completion and Transformation"
   ]
  },
  {
   "cell_type": "code",
   "execution_count": 14,
   "metadata": {},
   "outputs": [
    {
     "data": {
      "text/plain": [
       "PoolQC          1451\n",
       "MiscFeature     1402\n",
       "Alley           1365\n",
       "Fence           1176\n",
       "FireplaceQu      690\n",
       "LotFrontage      259\n",
       "GarageYrBlt       81\n",
       "GarageCond        81\n",
       "GarageType        81\n",
       "GarageFinish      81\n",
       "GarageQual        81\n",
       "BsmtExposure      38\n",
       "BsmtFinType2      38\n",
       "BsmtCond          37\n",
       "BsmtQual          37\n",
       "BsmtFinType1      37\n",
       "MasVnrArea         8\n",
       "MasVnrType         8\n",
       "Electrical         1\n",
       "Utilities          0\n",
       "dtype: int64"
      ]
     },
     "execution_count": 14,
     "metadata": {},
     "output_type": "execute_result"
    }
   ],
   "source": [
    "# Check for missing data and separate out by column, sorted from highest to lowest number of missing values.\n",
    "df_train.isnull().sum().sort_values(ascending = False).head(20)"
   ]
  },
  {
   "cell_type": "markdown",
   "metadata": {},
   "source": [
    "There is a sizeable amount of missing data. Our ultimate objective is to obtain a complete, numerical dataset, as only this can be employed in regression analysis. \n",
    "\n",
    "We employ what we consider to be a conservative approach to organizing our data. We separate our data into three categories: numerical, categorical, and ordinal. \n",
    "\n",
    "We replace missing values in certain numerical categories with 0 where NA is interpreted to mean that such features do not exist for the homes in question. \n",
    "\n",
    "Categorical variables are categorical data that are ordered, but have text (not numerical) values.  We convert the ordinal category from text-based categories into numerical categories in a consistent manner across categories, which all have the same overall text-based categorizations. \n",
    "\n",
    "Strictly categorical variables are text-based, and the different features represent labels. For these data, we use label encoding to convert the labels into numeric (and thus machine-readable) form. It works by assigning a unique number to each class of data. "
   ]
  },
  {
   "cell_type": "code",
   "execution_count": 15,
   "metadata": {},
   "outputs": [
    {
     "name": "stderr",
     "output_type": "stream",
     "text": [
      "C:\\Users\\djwei\\Anaconda3\\lib\\site-packages\\pandas\\core\\generic.py:6586: SettingWithCopyWarning: \n",
      "A value is trying to be set on a copy of a slice from a DataFrame\n",
      "\n",
      "See the caveats in the documentation: http://pandas.pydata.org/pandas-docs/stable/indexing.html#indexing-view-versus-copy\n",
      "  self._update_inplace(new_data)\n"
     ]
    }
   ],
   "source": [
    "#Define numerical dataset and column names\n",
    "NumDataSet = df_train.select_dtypes(exclude='O')\n",
    "Numerical_Cols = NumDataSet.columns.tolist()\n",
    "\n",
    "#Change NA values to 0 for 3 categories where NA is interpreted as meaning the features do not exist.\n",
    "NumDataSet['GarageYrBlt'].replace(to_replace=[np.nan], value=[0], inplace=True)\n",
    "NumDataSet['LotFrontage'].replace(to_replace=[np.nan], value=[0], inplace=True)\n",
    "NumDataSet['MasVnrArea'].replace(to_replace=[np.nan], value=[0], inplace=True)"
   ]
  },
  {
   "cell_type": "code",
   "execution_count": 16,
   "metadata": {},
   "outputs": [],
   "source": [
    "#Define categorical dataset and column names\n",
    "CatDataSet = df_train.select_dtypes(include='O')\n",
    "Categorical_Cols = CatDataSet.columns.tolist()"
   ]
  },
  {
   "cell_type": "code",
   "execution_count": 17,
   "metadata": {},
   "outputs": [],
   "source": [
    "#Define ordinal categories\n",
    "Ordered_Category = CatDataSet[['ExterQual','ExterCond','BsmtQual','BsmtCond', 'HeatingQC','KitchenQual','FireplaceQu','GarageQual','GarageCond']].copy()\n",
    "\n",
    "    \n",
    "#Remove these columns from the categorical dataset,so that they no longer reside there.\n",
    "CatDataSet = CatDataSet.drop(['ExterQual','ExterCond','BsmtQual','BsmtCond', 'HeatingQC','KitchenQual','FireplaceQu','GarageQual','GarageCond'], axis = 'columns')\n",
    "\n",
    "#Convert all ordinal cateogrical values to numeric values\n",
    "Ordered_Category['ExterQual'].replace(to_replace=['Ex', 'Gd', 'TA', 'Fa', 'Po', np.nan], value=[5, 4, 3, 2, 1, 0], inplace=True)\n",
    "Ordered_Category['ExterCond'].replace(to_replace=['Ex', 'Gd', 'TA', 'Fa', 'Po', np.nan], value=[5, 4, 3, 2, 1, 0], inplace=True)\n",
    "Ordered_Category['BsmtQual'].replace(to_replace=['Ex', 'Gd', 'TA', 'Fa', 'Po', np.nan], value=[5, 4, 3, 2, 1, 0], inplace=True)\n",
    "Ordered_Category['BsmtCond'].replace(to_replace=['Ex', 'Gd', 'TA', 'Fa', 'Po', np.nan], value=[5, 4, 3, 2, 1, 0], inplace=True)\n",
    "Ordered_Category['HeatingQC'].replace(to_replace=['Ex', 'Gd', 'TA', 'Fa', 'Po', np.nan], value=[5, 4, 3, 2, 1, 0], inplace=True)\n",
    "Ordered_Category['KitchenQual'].replace(to_replace=['Ex', 'Gd', 'TA', 'Fa', 'Po', np.nan], value=[5, 4, 3, 2, 1, 0], inplace=True)\n",
    "Ordered_Category['FireplaceQu'].replace(to_replace=['Ex', 'Gd', 'TA', 'Fa', 'Po', np.nan], value=[5, 4, 3, 2, 1, 0], inplace=True)\n",
    "Ordered_Category['GarageQual'].replace(to_replace=['Ex', 'Gd', 'TA', 'Fa', 'Po', np.nan], value=[5, 4, 3, 2, 1, 0], inplace=True)\n",
    "Ordered_Category['GarageCond'].replace(to_replace=['Ex', 'Gd', 'TA', 'Fa', 'Po', np.nan], value=[5, 4, 3, 2, 1, 0], inplace=True)"
   ]
  },
  {
   "cell_type": "code",
   "execution_count": 20,
   "metadata": {},
   "outputs": [],
   "source": [
    "#For categorical data, we use LabelEncoder to categorize the variables.\n",
    "le = preprocessing.LabelEncoder()\n",
    "for col in CatDataSet:\n",
    "    i = CatDataSet.columns.get_loc(col)\n",
    "    CatDataSet.iloc[:,i] = CatDataSet.apply(lambda i:le.fit_transform(i.astype(str)), axis=0, result_type='expand')"
   ]
  },
  {
   "cell_type": "code",
   "execution_count": 21,
   "metadata": {},
   "outputs": [],
   "source": [
    "#Finally, we concatenate the different datasets into a new object - df_train2.\n",
    "df_train2 = pd.concat((CatDataSet, Ordered_Category, NumDataSet), axis=1, join='inner')"
   ]
  },
  {
   "cell_type": "code",
   "execution_count": 22,
   "metadata": {},
   "outputs": [
    {
     "data": {
      "text/plain": [
       "TotSqFt          0\n",
       "SalePrice        0\n",
       "BsmtFinType2     0\n",
       "Heating          0\n",
       "CentralAir       0\n",
       "Electrical       0\n",
       "Functional       0\n",
       "GarageType       0\n",
       "GarageFinish     0\n",
       "PavedDrive       0\n",
       "PoolQC           0\n",
       "Fence            0\n",
       "MiscFeature      0\n",
       "SaleType         0\n",
       "SaleCondition    0\n",
       "ExterQual        0\n",
       "ExterCond        0\n",
       "BsmtQual         0\n",
       "BsmtCond         0\n",
       "BsmtFinType1     0\n",
       "dtype: int64"
      ]
     },
     "execution_count": 22,
     "metadata": {},
     "output_type": "execute_result"
    }
   ],
   "source": [
    "#We double check to confirm that once our pre-processing is complete, there are no nulls remaining.\n",
    "df_train2.isnull().sum().sort_values(ascending = False).head(20)"
   ]
  },
  {
   "cell_type": "markdown",
   "metadata": {},
   "source": [
    "Before proceeding with our regression, we transform our SalePrice feature into logarithmic form, as determiend woudl be appropriate based upon our EDA."
   ]
  },
  {
   "cell_type": "code",
   "execution_count": 23,
   "metadata": {},
   "outputs": [],
   "source": [
    "df_train2['SalePrice'] = np.log(df_train2['SalePrice'])"
   ]
  },
  {
   "cell_type": "markdown",
   "metadata": {},
   "source": [
    "## IV. Selection of Variables for Use in Regression"
   ]
  },
  {
   "cell_type": "markdown",
   "metadata": {},
   "source": [
    "Our final step is the selection of which variables to employ in our regression analysis in seeking to explain the sales price. We will do so primarily on the basis of strength of the variables' correlation with Sales Price."
   ]
  },
  {
   "cell_type": "code",
   "execution_count": 24,
   "metadata": {},
   "outputs": [
    {
     "data": {
      "text/plain": [
       "SalePrice        1.000000\n",
       "OverallQual      0.819240\n",
       "TotSqFt          0.729421\n",
       "GrLivArea        0.718844\n",
       "GarageCars       0.680408\n",
       "GarageArea       0.655211\n",
       "TotalBsmtSF      0.641553\n",
       "BsmtQual         0.615224\n",
       "FullBath         0.590919\n",
       "YearBuilt        0.588977\n",
       "YearRemodAdd     0.568986\n",
       "FireplaceQu      0.546552\n",
       "TotRmsAbvGrd     0.533446\n",
       "Fireplaces       0.487126\n",
       "MasVnrArea       0.425946\n",
       "Foundation       0.412103\n",
       "BsmtFinSF1       0.382710\n",
       "GarageQual       0.365490\n",
       "GarageCond       0.358917\n",
       "CentralAir       0.353708\n",
       "GarageYrBlt      0.351023\n",
       "WoodDeckSF       0.330573\n",
       "OpenPorchSF      0.327038\n",
       "HalfBath         0.311191\n",
       "PavedDrive       0.306194\n",
       "Electrical       0.295600\n",
       "BsmtCond         0.276638\n",
       "SaleCondition    0.260785\n",
       "LotArea          0.258945\n",
       "BsmtFullBath     0.238851\n",
       "                   ...   \n",
       "Street           0.057595\n",
       "3SsnPorch        0.056065\n",
       "PoolArea         0.040679\n",
       "LandSlope        0.040113\n",
       "LandContour      0.031806\n",
       "BsmtFinSF2       0.006420\n",
       "Condition2       0.000109\n",
       "MasVnrType      -0.000230\n",
       "Utilities       -0.012618\n",
       "BsmtFinType2    -0.013073\n",
       "BsmtHalfBath    -0.014974\n",
       "MiscVal         -0.019752\n",
       "Id              -0.020511\n",
       "YrSold          -0.034319\n",
       "OverallCond     -0.036843\n",
       "LowQualFinSF    -0.037698\n",
       "SaleType        -0.038664\n",
       "PoolQC          -0.038768\n",
       "LotConfig       -0.064371\n",
       "BldgType        -0.071098\n",
       "MSSubClass      -0.075083\n",
       "BsmtFinType1    -0.138663\n",
       "Heating         -0.140651\n",
       "KitchenAbvGr    -0.147890\n",
       "EnclosedPorch   -0.148636\n",
       "MSZoning        -0.190488\n",
       "LotShape        -0.273934\n",
       "BsmtExposure    -0.299405\n",
       "GarageType      -0.504519\n",
       "GarageFinish    -0.604917\n",
       "Name: SalePrice, Length: 76, dtype: float64"
      ]
     },
     "execution_count": 24,
     "metadata": {},
     "output_type": "execute_result"
    }
   ],
   "source": [
    "#Calculate a correlation matrix in descending order\n",
    "corr_matrix = df_train2.corr()\n",
    "corr_matrix['SalePrice'].sort_values(ascending=False)"
   ]
  },
  {
   "cell_type": "code",
   "execution_count": 33,
   "metadata": {},
   "outputs": [
    {
     "data": {
      "image/png": "[encoded data removed]",
      "text/plain": [
       "<Figure size 864x648 with 2 Axes>"
      ]
     },
     "metadata": {},
     "output_type": "display_data"
    }
   ],
   "source": [
    "#Filter out 10 highest correlated categories\n",
    "corr_num = 10\n",
    "corr_cols = corr_matrix.nlargest(corr_num,'SalePrice')['SalePrice'].index\n",
    "corr_mat_sales = np.corrcoef(df_train2[corr_cols].values.T)\n",
    "sns.set(font_scale=1.25)\n",
    "fig,ax = plt.subplots(figsize=(12,9))\n",
    "hm = sns.heatmap(corr_mat_sales, cbar=True,annot=True,square=True,fmt='.2f',annot_kws={'size':7}, yticklabels=corr_cols.values, xticklabels=corr_cols.values)"
   ]
  },
  {
   "cell_type": "markdown",
   "metadata": {},
   "source": [
    "For our analysis, we will use 'OverallQual', 'TotSqFt', 'GrLivArea', 'GarageCars', 'GarageArea', 'BsmtQual', 'FullBath', 'YearBuilt', 'YearRemodAdd' as the variables to expain 'SalePrice' as these have the highest correlations with our dependent variable."
   ]
  },
  {
   "cell_type": "markdown",
   "metadata": {},
   "source": [
    "Because we will be using this dataframe going forward, we will save it to a csv and then import it into future notebooks."
   ]
  },
  {
   "cell_type": "code",
   "execution_count": 45,
   "metadata": {},
   "outputs": [],
   "source": [
    "df_train2.to_csv('df_train2.csv', sep='\\t')"
   ]
  }
 ],
 "metadata": {
  "kernelspec": {
   "display_name": "Python 3",
   "language": "python",
   "name": "python3"
  },
  "language_info": {
   "codemirror_mode": {
    "name": "ipython",
    "version": 3
   },
   "file_extension": ".py",
   "mimetype": "text/x-python",
   "name": "python",
   "nbconvert_exporter": "python",
   "pygments_lexer": "ipython3",
   "version": "3.7.3"
  }
 },
 "nbformat": 4,
 "nbformat_minor": 4
}
