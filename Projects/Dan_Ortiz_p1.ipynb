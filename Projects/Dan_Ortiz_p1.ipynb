{
  "nbformat": 4,
  "nbformat_minor": 0,
  "metadata": {
    "colab": {
      "name": "Dan_Ortiz_p1.ipynb",
      "provenance": [],
      "collapsed_sections": []
    },
    "kernelspec": {
      "display_name": "Python 3",
      "language": "python",
      "name": "python3"
    },
    "language_info": {
      "codemirror_mode": {
        "name": "ipython",
        "version": 3
      },
      "file_extension": ".py",
      "mimetype": "text/x-python",
      "name": "python",
      "nbconvert_exporter": "python",
      "pygments_lexer": "ipython3",
      "version": "3.7.6"
    },
    "toc": {
      "base_numbering": 1,
      "nav_menu": {},
      "number_sections": false,
      "sideBar": true,
      "skip_h1_title": true,
      "title_cell": "Table of Contents",
      "title_sidebar": "Contents",
      "toc_cell": false,
      "toc_position": {},
      "toc_section_display": true,
      "toc_window_display": false
    }
  },
  "cells": [
    {
      "cell_type": "markdown",
      "metadata": {
        "id": "z6UHmLYVhWAN"
      },
      "source": [
        "# Project 1: Digit Classification with KNN and Naive Bayes"
      ]
    },
    {
      "cell_type": "markdown",
      "metadata": {
        "id": "03M_JSg3hWAO"
      },
      "source": [
        "In this project, you'll implement your own image recognition system for classifying digits. Read through the code and the instructions carefully and add your own code where indicated. Each problem can be addressed succinctly with the included packages -- please don't add any more. Grading will be based on writing clean, commented code, along with a few short answers.\n",
        "\n",
        "As always, you're welcome to work on the project in groups and discuss ideas on the course wall, but <b> please prepare your own write-up (with your own code). </b>\n",
        "\n",
        "If you're interested, check out these links related to digit recognition:\n",
        "\n",
        "* Yann Lecun's MNIST benchmarks: http://yann.lecun.com/exdb/mnist/\n",
        "* Stanford Streetview research and data: http://ufldl.stanford.edu/housenumbers/\n",
        "\n",
        "Finally, if you'd like to get started with Tensorflow, you can read through this tutorial: https://www.tensorflow.org/tutorials/keras/basic_classification. It uses a dataset called \"fashion_mnist\", which is identical in structure to the original digit mnist, but uses images of clothing rather than images of digits. The number of training examples and number of labels is the same. In fact, you can simply replace the code that loads \"fashion_mnist\" with \"mnist\" and everything should work fine."
      ]
    },
    {
      "cell_type": "code",
      "metadata": {
        "id": "iJ9ayCvyhWAP"
      },
      "source": [
        "# This tells matplotlib not to try opening a new window for each plot.\n",
        "%matplotlib inline\n",
        "\n",
        "# Import a bunch of libraries.\n",
        "import time\n",
        "import numpy as np\n",
        "import matplotlib.pyplot as plt\n",
        "from matplotlib.ticker import MultipleLocator\n",
        "from sklearn.pipeline import Pipeline\n",
        "from sklearn.datasets import fetch_openml\n",
        "from sklearn.neighbors import KNeighborsClassifier\n",
        "from sklearn.metrics import confusion_matrix\n",
        "from sklearn.linear_model import LinearRegression\n",
        "from sklearn.naive_bayes import BernoulliNB\n",
        "from sklearn.naive_bayes import MultinomialNB\n",
        "from sklearn.naive_bayes import GaussianNB\n",
        "from sklearn.model_selection import GridSearchCV\n",
        "from sklearn.metrics import classification_report\n",
        "\n",
        "# Set the randomizer seed so results are the same each time.\n",
        "np.random.seed(0)"
      ],
      "execution_count": null,
      "outputs": []
    },
    {
      "cell_type": "code",
      "metadata": {
        "id": "894C1cWRAz89",
        "colab": {
          "base_uri": "https://localhost:8080/",
          "height": 36
        },
        "outputId": "bac5f629-d3b9-435e-9cc2-ebf065f5914b"
      },
      "source": [
        "import sklearn\n",
        "sklearn.__version__"
      ],
      "execution_count": null,
      "outputs": [
        {
          "output_type": "execute_result",
          "data": {
            "application/vnd.google.colaboratory.intrinsic+json": {
              "type": "string"
            },
            "text/plain": [
              "'0.22.2.post1'"
            ]
          },
          "metadata": {
            "tags": []
          },
          "execution_count": 43
        }
      ]
    },
    {
      "cell_type": "markdown",
      "metadata": {
        "id": "sO1t0ypThWAR"
      },
      "source": [
        "Load the data. Notice that the data gets partitioned into training, development, and test sets. Also, a small subset of the training data called mini_train_data and mini_train_labels gets defined, which you should use in all the experiments below, unless otherwise noted."
      ]
    },
    {
      "cell_type": "code",
      "metadata": {
        "colab": {
          "base_uri": "https://localhost:8080/"
        },
        "id": "3yK9DacchWAS",
        "outputId": "94ca2f50-4520-4f97-8335-b60dfd0b863a"
      },
      "source": [
        "# Load the digit data from https://www.openml.org/d/554 or from default local location '~/scikit_learn_data/...'\n",
        "X, Y = fetch_openml(name='mnist_784', return_X_y=True, cache=False)\n",
        "\n",
        "\n",
        "# Rescale grayscale values to [0,1].\n",
        "X = X / 255.0\n",
        "\n",
        "# Shuffle the input: create a random permutation of the integers between 0 and the number of data points and apply this\n",
        "# permutation to X and Y.\n",
        "# NOTE: Each time you run this cell, you'll re-shuffle the data, resulting in a different ordering.\n",
        "shuffle = np.random.permutation(np.arange(X.shape[0]))\n",
        "X, Y = X[shuffle], Y[shuffle]\n",
        "\n",
        "print('data shape: ', X.shape)\n",
        "print('label shape:', Y.shape)\n",
        "\n",
        "# Set some variables to hold test, dev, and training data.\n",
        "test_data, test_labels = X[61000:], Y[61000:]\n",
        "dev_data, dev_labels = X[60000:61000], Y[60000:61000]\n",
        "train_data, train_labels = X[:60000], Y[:60000]\n",
        "mini_train_data, mini_train_labels = X[:1000], Y[:1000]\n"
      ],
      "execution_count": null,
      "outputs": [
        {
          "output_type": "stream",
          "text": [
            "data shape:  (70000, 784)\n",
            "label shape: (70000,)\n"
          ],
          "name": "stdout"
        }
      ]
    },
    {
      "cell_type": "markdown",
      "metadata": {
        "id": "atc2JpWKhWAV"
      },
      "source": [
        "### Part 1:\n",
        "\n",
        "Show a 10x10 grid that visualizes 10 examples of each digit.\n",
        "\n",
        "Notes:\n",
        "* You can use `plt.rc()` for setting the colormap, for example to black and white.\n",
        "* You can use `plt.subplot()` for creating subplots.\n",
        "* You can use `plt.imshow()` for rendering a matrix.\n",
        "* You can use `np.array.reshape()` for reshaping a 1D feature vector into a 2D matrix (for rendering)."
      ]
    },
    {
      "cell_type": "code",
      "metadata": {
        "colab": {
          "base_uri": "https://localhost:8080/",
          "height": 834
        },
        "id": "436UeH7JhWAW",
        "outputId": "9b3c6821-b515-486a-c144-89f85febdf4c"
      },
      "source": [
        "def P1(num_examples=10):\n",
        "\n",
        "### STUDENT START ###\n",
        "\n",
        "    #Pull unique classes\n",
        "    num_class=np.unique(Y)\n",
        "\n",
        "    #Determine Pixle Dimensions for rendering the number matrix\n",
        "    pix_dim = int(np.sqrt(len(X[1])))\n",
        "\n",
        "    #Instatiate figure and axis of plot\n",
        "    fig, ax = plt.subplots(len(num_class), num_examples, figsize = (20,20))\n",
        "\n",
        "    #Loop over images and build visualization\n",
        "    for col in range(len(num_class)):\n",
        "      for row in range(num_examples):\n",
        "\n",
        "            ax[col,row].imshow(X[Y == str(col)][row].reshape(pix_dim, pix_dim), cmap=plt.cm.gray)\n",
        "            ax[col,row].axis('off')\n",
        "\n",
        "    plt.show();\n",
        "\n",
        "### STUDENT END ###\n",
        "\n",
        "P1(10)"
      ],
      "execution_count": null,
      "outputs": [
        {
          "output_type": "display_data",
          "data": {
            "image/png": "[encoded data removed]",
            "text/plain": [
              "<Figure size 1440x1440 with 100 Axes>"
            ]
          },
          "metadata": {
            "tags": [],
            "needs_background": "light"
          }
        }
      ]
    },
    {
      "cell_type": "markdown",
      "metadata": {
        "id": "EMQAHr7QhWAX"
      },
      "source": [
        "### Part 2:\n",
        "\n",
        "Produce k-Nearest Neighbors models with k $\\in$ [1,3,5,7,9].  Evaluate and show the accuracy of each model. For the 1-Nearest Neighbor model, additionally show the precision, recall, and F1 for each label. Which digit is the most difficult for the 1-Nearest Neighbor model to recognize?\n",
        "\n",
        "Notes:\n",
        "* Train on the mini train set.\n",
        "* Evaluate performance on the dev set.\n",
        "* You can use `KNeighborsClassifier` to produce a k-nearest neighbor model.\n",
        "* You can use `classification_report` to get precision, recall, and F1 results."
      ]
    },
    {
      "cell_type": "code",
      "metadata": {
        "colab": {
          "base_uri": "https://localhost:8080/",
          "height": 335
        },
        "id": "-it5pn8-hWAY",
        "outputId": "5af8f5ec-1524-4134-a259-f381d3cfe697"
      },
      "source": [
        "def P2(k_values):\n",
        "### STUDENT START ###\n",
        "\n",
        "    #Set the training data\n",
        "    for index in k_values:\n",
        "\n",
        "        #Initiate KNN Classifier and set the number of neighbors to the K_value\n",
        "        #array\n",
        "        nn = KNeighborsClassifier(n_neighbors = index)\n",
        "\n",
        "        #Fit the KNN model with the mini trainign data\n",
        "        nn.fit(mini_train_data, mini_train_labels)\n",
        "\n",
        "        #Print accruacy of model\n",
        "        print(\"Mean Accuracy Score for \", index,\":\",nn.score(dev_data, dev_labels))\n",
        "        \n",
        "        #Logic Gate if K_value equals 1\n",
        "        if(index == 1):\n",
        "            print(classification_report(dev_labels, nn.predict(dev_data))) \n",
        "\n",
        "### STUDENT END ###\n",
        "\n",
        "k_values = [1, 3, 5, 7, 9]\n",
        "P2(k_values)"
      ],
      "execution_count": null,
      "outputs": [
        {
          "output_type": "error",
          "ename": "NameError",
          "evalue": "ignored",
          "traceback": [
            "\u001b[0;31m---------------------------------------------------------------------------\u001b[0m",
            "\u001b[0;31mNameError\u001b[0m                                 Traceback (most recent call last)",
            "\u001b[0;32m<ipython-input-1-63bdf933eb90>\u001b[0m in \u001b[0;36m<module>\u001b[0;34m()\u001b[0m\n\u001b[1;32m     22\u001b[0m \u001b[0;34m\u001b[0m\u001b[0m\n\u001b[1;32m     23\u001b[0m \u001b[0mk_values\u001b[0m \u001b[0;34m=\u001b[0m \u001b[0;34m[\u001b[0m\u001b[0;36m1\u001b[0m\u001b[0;34m,\u001b[0m \u001b[0;36m3\u001b[0m\u001b[0;34m,\u001b[0m \u001b[0;36m5\u001b[0m\u001b[0;34m,\u001b[0m \u001b[0;36m7\u001b[0m\u001b[0;34m,\u001b[0m \u001b[0;36m9\u001b[0m\u001b[0;34m]\u001b[0m\u001b[0;34m\u001b[0m\u001b[0;34m\u001b[0m\u001b[0m\n\u001b[0;32m---> 24\u001b[0;31m \u001b[0mP2\u001b[0m\u001b[0;34m(\u001b[0m\u001b[0mk_values\u001b[0m\u001b[0;34m)\u001b[0m\u001b[0;34m\u001b[0m\u001b[0;34m\u001b[0m\u001b[0m\n\u001b[0m",
            "\u001b[0;32m<ipython-input-1-63bdf933eb90>\u001b[0m in \u001b[0;36mP2\u001b[0;34m(k_values)\u001b[0m\n\u001b[1;32m      7\u001b[0m         \u001b[0;31m#Initiate KNN Classifier and set the number of neighbors to the K_value\u001b[0m\u001b[0;34m\u001b[0m\u001b[0;34m\u001b[0m\u001b[0;34m\u001b[0m\u001b[0m\n\u001b[1;32m      8\u001b[0m         \u001b[0;31m#array\u001b[0m\u001b[0;34m\u001b[0m\u001b[0;34m\u001b[0m\u001b[0;34m\u001b[0m\u001b[0m\n\u001b[0;32m----> 9\u001b[0;31m         \u001b[0mnn\u001b[0m \u001b[0;34m=\u001b[0m \u001b[0mKNeighborsClassifier\u001b[0m\u001b[0;34m(\u001b[0m\u001b[0mn_neighbors\u001b[0m \u001b[0;34m=\u001b[0m \u001b[0mindex\u001b[0m\u001b[0;34m)\u001b[0m\u001b[0;34m\u001b[0m\u001b[0;34m\u001b[0m\u001b[0m\n\u001b[0m\u001b[1;32m     10\u001b[0m \u001b[0;34m\u001b[0m\u001b[0m\n\u001b[1;32m     11\u001b[0m         \u001b[0;31m#Fit the KNN model with the mini trainign data\u001b[0m\u001b[0;34m\u001b[0m\u001b[0;34m\u001b[0m\u001b[0;34m\u001b[0m\u001b[0m\n",
            "\u001b[0;31mNameError\u001b[0m: name 'KNeighborsClassifier' is not defined"
          ]
        }
      ]
    },
    {
      "cell_type": "markdown",
      "metadata": {
        "id": "tZc9gzn5hWAZ"
      },
      "source": [
        "ANSWER:\n",
        "\n",
        "Which digit is the most difficult for the 1-Nearest Neighbor model to recognize?\n",
        "\n",
        "8 has the lowest F1 score, or the harmonic mean between accuracy and precision, indicating it is the most difficult integer for the 1-NN model to recognize."
      ]
    },
    {
      "cell_type": "markdown",
      "metadata": {
        "id": "7b6YEAzzhWAa"
      },
      "source": [
        "### Part 3:\n",
        "\n",
        "Produce 1-Nearest Neighbor models using training data of various sizes.  Evaluate and show the performance of each model.  Additionally, show the time needed to measure the performance of each model.\n",
        "\n",
        "Notes:\n",
        "* Train on subsets of the train set.  For each subset, take just the first part of the train set without re-ordering.\n",
        "* Evaluate on the dev set.\n",
        "* You can use `KNeighborsClassifier` to produce a k-nearest neighbor model.\n",
        "* You can use `time.time()` to measure elapsed time of operations."
      ]
    },
    {
      "cell_type": "code",
      "metadata": {
        "colab": {
          "base_uri": "https://localhost:8080/"
        },
        "id": "gEpNzDEjhWAa",
        "outputId": "5c25bd14-6aed-4257-81e3-7df6e6fb5fa2"
      },
      "source": [
        "def P3(train_sizes, accuracies):\n",
        "\n",
        "### STUDENT START ###\n",
        "\n",
        "    for index in train_sizes:\n",
        "      #Set a variable to be the partition of the training data\n",
        "      train_data_part_three = train_data[0:index]\n",
        "      train_labels_part_three = train_labels[0:index]\n",
        "      \n",
        "      #Initiate the KNN classifier\n",
        "      nn = KNeighborsClassifier(n_neighbors=1)\n",
        "\n",
        "      #fit KNN with training data\n",
        "      nn.fit(train_data_part_three, train_labels_part_three)\n",
        "\n",
        "      #Record the start time of the dev evaluation\n",
        "      start_time = time.time()\n",
        "\n",
        "      #Evaluate\n",
        "      nn_score = nn.score(dev_data, dev_labels)\n",
        "      accuracies.append(nn_score)\n",
        "\n",
        "      #Record the end time of the dev evaluation\n",
        "      end_time = time.time()\n",
        "\n",
        "      #Print the results\n",
        "      print(\"The accuracy Score for training size of\", index,\":\",nn_score,\n",
        "            \"and the evaluation was completed in\", end_time - start_time, \"secconds.\")\n",
        "\n",
        "\n",
        "### STUDENT END ###\n",
        "\n",
        "train_sizes = [100, 200, 400, 800, 1600, 3200, 6400, 12800, 25600]\n",
        "accuracies = []\n",
        "P3(train_sizes, accuracies)"
      ],
      "execution_count": null,
      "outputs": [
        {
          "output_type": "stream",
          "text": [
            "The accuracy Score for training size of 100 : 0.702 and the evaluation was completed in 0.17394781112670898 secconds.\n",
            "The accuracy Score for training size of 200 : 0.791 and the evaluation was completed in 0.33913636207580566 secconds.\n",
            "The accuracy Score for training size of 400 : 0.811 and the evaluation was completed in 0.6545872688293457 secconds.\n",
            "The accuracy Score for training size of 800 : 0.866 and the evaluation was completed in 1.2757315635681152 secconds.\n",
            "The accuracy Score for training size of 1600 : 0.905 and the evaluation was completed in 2.5929596424102783 secconds.\n",
            "The accuracy Score for training size of 3200 : 0.927 and the evaluation was completed in 5.400473594665527 secconds.\n",
            "The accuracy Score for training size of 6400 : 0.939 and the evaluation was completed in 10.883846998214722 secconds.\n",
            "The accuracy Score for training size of 12800 : 0.952 and the evaluation was completed in 21.78246283531189 secconds.\n",
            "The accuracy Score for training size of 25600 : 0.963 and the evaluation was completed in 43.613943338394165 secconds.\n"
          ],
          "name": "stdout"
        }
      ]
    },
    {
      "cell_type": "markdown",
      "metadata": {
        "id": "B56lVsKNhWAc"
      },
      "source": [
        "### Part 4:\n",
        "\n",
        "Produce a linear regression model that predicts accuracy of a 1-Nearest Neighbor model given training set size. Show $R^2$ of the linear regression model.  Show the accuracies predicted for training set sizes 60000, 120000, and 1000000.  Show a lineplot of actual accuracies and predicted accuracies vs. training set size over the range of training set sizes in the training data.  What's wrong with using linear regression here?\n",
        "\n",
        "Apply a transformation to the predictor features and a transformation to the outcome that make the predictions more reasonable.  Show $R^2$ of the improved linear regression model.  Show the accuracies predicted for training set sizes 60000, 120000, and 1000000.  Show a lineplot of actual accuracies and predicted accuracies vs. training set size over the range of training set sizes in the training data - be sure to display accuracies and training set sizes in appropriate units.\n",
        "\n",
        "Notes:\n",
        "* Train the linear regression models on all of the (transformed) accuracies estimated in Problem 3.\n",
        "* Evaluate the linear regression models on all of the (transformed) accuracies estimated in Problem 3.\n",
        "* You can use `LinearRegression` to produce a linear regression model.\n",
        "* Remember that the sklearn `fit()` functions take an input matrix X and output vector Y. So, each input example in X is a vector, even if it contains only a single value.\n",
        "* Hint re: predictor feature transform: Accuracy increases with training set size logarithmically.\n",
        "* Hint re: outcome transform: When y is a number in range 0 to 1, then odds(y)=y/(1-y) is a number in range 0 to infinity."
      ]
    },
    {
      "cell_type": "code",
      "metadata": {
        "id": "4xE_qIJghWAc",
        "colab": {
          "base_uri": "https://localhost:8080/",
          "height": 737
        },
        "outputId": "0c063144-1f94-4cba-f17d-2a63b75ea983"
      },
      "source": [
        "def P4():\n",
        "\n",
        "### STUDENT START ###\n",
        "    # Reshape data from 1D Array to 2D Array\n",
        "    train_data_p4 = np.reshape(train_sizes, (9,1))\n",
        "    train_label_p4 = accuracies\n",
        "    \n",
        "\n",
        "    # Build \"test data\" matrix\n",
        "    datap4 = [60000, 120000, 1000000]\n",
        "    data_p4 = np.reshape(datap4, (3,1))\n",
        "\n",
        "\n",
        "    # Log Transform train_sizes \n",
        "    trans_train_label_p4 = np.reshape(np.log(train_sizes), (9,1))\n",
        "    trans_data_4 = np.reshape(np.log(datap4), (3,1))\n",
        "\n",
        "\n",
        "    # Odds Ration Transformation on accuracies\n",
        "    trans_accuracies = []\n",
        "\n",
        "    for index in range(len(accuracies)):\n",
        "      trans_accuracies.append(accuracies[index] / (1 - accuracies[index]))\n",
        "\n",
        "    trans_accuracies = np.reshape(trans_accuracies, (9,1))\n",
        "\n",
        "\n",
        "    # Make Linear Regression Object\n",
        "    regr = LinearRegression()\n",
        "\n",
        "\n",
        "    # Train the Regression Model with Training Data\n",
        "    regr.fit(train_data_p4, train_label_p4)\n",
        "\n",
        "\n",
        "    # Evaluate model on all of P3 accuracies\n",
        "    p3_predict = regr.predict(train_data_p4)\n",
        "\n",
        "\n",
        "    # Calculate R Squared for linear regression model\n",
        "    p3_predict_rsqd = regr.score(train_data_p4, train_label_p4)\n",
        "\n",
        "\n",
        "    # Calculate accuracies for [[60000, 120000, 1000000]]\n",
        "    p4_predict = regr.predict(data_p4)\n",
        "\n",
        "\n",
        "    # Generate Plot for Predicted Accuracies vs. Training set size\n",
        "    plt.scatter(train_data_p4, train_label_p4, color = 'black')\n",
        "    plt.plot(train_data_p4, p3_predict, color = 'blue',  linewidth = 3)\n",
        "\n",
        "    plt.title('Predicted Accuracies vs. Training set size')\n",
        "    plt.xlabel(\"Predicted Accuracies\")\n",
        "    plt.ylabel(\"Training set size\")\n",
        "\n",
        "    plt.show()\n",
        "\n",
        "\n",
        "    # Show Calculated R Squared Values\n",
        "    print('R Squared Score of Linear Model', p3_predict_rsqd)\n",
        "\n",
        "\n",
        "    # Show predicted accuracies of p4 data\n",
        "    for index in range(len(data_p4)):\n",
        "        print('Predicted accuracies for',data_p4[index][0], 'is', \n",
        "              p4_predict[index])\n",
        "    print(\"\")\n",
        "\n",
        "\n",
        "    # Evaluate model on all of P3 accuracies transformed\n",
        "    regr.fit(trans_accuracies, trans_train_label_p4)\n",
        "\n",
        "\n",
        "    # Evaluate model on all the new p4 trainign set sized\n",
        "    trans_p3_predict = regr.predict(trans_accuracies) \n",
        "\n",
        "\n",
        "    # Calculate R Squared for linear regression model\n",
        "    trans_p3_predict_rsqd = regr.score(trans_accuracies, trans_train_label_p4)\n",
        "\n",
        "\n",
        "    # Calculate accuracies for log transformed [[60000, 120000, 1000000]]\n",
        "    trans_p4_predict = regr.predict(trans_data_4)\n",
        "\n",
        "\n",
        "    # Generate Plot for Trans Predicted Accuracies vs. Trans Training set size\n",
        "    plt.scatter(trans_accuracies, trans_train_label_p4, color = 'black')\n",
        "    plt.plot(trans_accuracies, trans_p3_predict, color = 'blue',  linewidth = 3)\n",
        "\n",
        "    plt.title('Odds Ratio Predicted Accuracies vs. Natural Log Training set size')\n",
        "    plt.xlabel(\"Odds Ratio Predicted Accuracies\")\n",
        "    plt.ylabel(\"Natural Log Training set size\")\n",
        "\n",
        "    plt.show()\n",
        "\n",
        "\n",
        "    # Show Calculated R Squared Values for Transformed Model\n",
        "    print('R Squared Score for the Transformed Linear Model', \n",
        "          trans_p3_predict_rsqd)\n",
        "    \n",
        "    # Show predicted accuracies of p4 data\n",
        "    trans_data_4 = np.exp(trans_data_4)\n",
        "\n",
        "    # Return odds ratios back into percentages\n",
        "    trans_data_per =[]\n",
        "    for index in range(len(trans_data_4)):\n",
        "      trans_data_per.append(trans_data_4[index] / \n",
        "                            (trans_data_4[index] + 1))\n",
        "      \n",
        "    # Print out predicted accuracies for transformed data\n",
        "    for index in range(len(trans_data_4)):\n",
        "      print('Predicted accuracies for',trans_data_4[index][0], 'is', \n",
        "            trans_data_per[index][0])\n",
        "    \n",
        "### STUDENT END ###\n",
        "\n",
        "P4()"
      ],
      "execution_count": null,
      "outputs": [
        {
          "output_type": "display_data",
          "data": {
            "image/png": "[encoded data removed]",
            "text/plain": [
              "<Figure size 432x288 with 1 Axes>"
            ]
          },
          "metadata": {
            "tags": [],
            "needs_background": "light"
          }
        },
        {
          "output_type": "stream",
          "text": [
            "R Squared Score of Linear Model 0.4177006634161019\n",
            "Predicted accuracies for 60000 is 1.2361731707874237\n",
            "Predicted accuracies for 120000 is 1.637428053637104\n",
            "Predicted accuracies for 1000000 is 7.522499668765751\n",
            "\n"
          ],
          "name": "stdout"
        },
        {
          "output_type": "display_data",
          "data": {
            "image/png": "[encoded data removed]",
            "text/plain": [
              "<Figure size 432x288 with 1 Axes>"
            ]
          },
          "metadata": {
            "tags": [],
            "needs_background": "light"
          }
        },
        {
          "output_type": "stream",
          "text": [
            "R Squared Score for the Transformed Linear Model 0.9395242859897991\n",
            "Predicted accuracies for 60000.00000000002 is 0.9999833336111065\n",
            "Predicted accuracies for 120000.00000000006 is 0.9999916667361105\n",
            "Predicted accuracies for 999999.9999999995 is 0.999999000001\n"
          ],
          "name": "stdout"
        }
      ]
    },
    {
      "cell_type": "markdown",
      "metadata": {
        "id": "HYYYL9cGhWAe"
      },
      "source": [
        "ANSWER: What's wrong with using linear regression here?\n",
        "\n",
        "Linear regression is not appropriate in the raw form (first case) because the data does not fit the linear model well, as seen by the first graph. In addition, when we predict accuracies with the raw model we see percentages over 100%. It is not possible to have over 100%, therefore we must apply a transformation to the data in order to develop a better fitting model.\n"
      ]
    },
    {
      "cell_type": "markdown",
      "metadata": {
        "id": "geAQJjGRhWAe"
      },
      "source": [
        "### Part 5:\n",
        "\n",
        "Produce a 1-Nearest Neighbor model and show the confusion matrix. Which pair of digits does the model confuse most often? Show the images of these most often confused digits.\n",
        "\n",
        "Notes:\n",
        "- Train on the mini train set.\n",
        "- Evaluate performance on the dev set.\n",
        "- You can use `confusion_matrix()` to produce a confusion matrix."
      ]
    },
    {
      "cell_type": "code",
      "metadata": {
        "id": "Bq36xaQohWAf",
        "colab": {
          "base_uri": "https://localhost:8080/",
          "height": 267
        },
        "outputId": "4a560f22-2d8f-442f-c0d9-53d5f9f627c8"
      },
      "source": [
        "def P5():\n",
        "\n",
        "### STUDENT START ###\n",
        "    # Create the KNN Object\n",
        "    nn_p5 = KNeighborsClassifier(n_neighbors = 1)\n",
        "\n",
        "    # Train on the mini training set\n",
        "    nn_p5.fit(mini_train_data, mini_train_labels)\n",
        "\n",
        "    # Evaluate the on the model set\n",
        "    predicted_label_p5 = nn_p5.predict(dev_data)\n",
        "\n",
        "    # Make confusion matrix\n",
        "    cm_p5 = confusion_matrix(dev_labels, predicted_label_p5)\n",
        "    # ADD LABELS TO THE CONFUSION MATRIX\n",
        "\n",
        "    # Show the confusion matrix\n",
        "    print(cm_p5)\n",
        "\n",
        "    # Convert to a triangular matrix\n",
        "        # Come back to this to generalize and automaticly choose largest number\n",
        "        # Matrix operation to do this\n",
        "\n",
        "    # Generate a list of mistaken numbers\n",
        "    mistaken_numbers = []\n",
        "    for index in range(len(dev_data)):\n",
        "      if((dev_labels[index] == '4' and predicted_label_p5[index] == '9') or \n",
        "         (dev_labels[index] == '9' and predicted_label_p5[index] == '4')):\n",
        "        mistaken_numbers.append(dev_data[index])\n",
        "\n",
        "    #Show images of most often conused matrix (Find the maximum number)\n",
        "    fig, ax = plt.subplots(2, 7, figsize = (10,1))\n",
        "    \n",
        "    count_p5 = 0\n",
        "    for r in range(2):\n",
        "      for c in range(7):\n",
        "        ax[r,c].imshow(mistaken_numbers[count_p5].reshape(pix_dim, pix_dim))\n",
        "        ax[r,c].axis('off')\n",
        "        count_p5 += 1\n",
        "       \n",
        "    plt.rc('image', cmap='binary', interpolation='none')\n",
        "\n",
        "### STUDENT END ###\n",
        "\n",
        "P5()"
      ],
      "execution_count": null,
      "outputs": [
        {
          "output_type": "stream",
          "text": [
            "[[101   0   1   0   0   0   1   1   2   0]\n",
            " [  0 116   1   0   0   0   0   0   1   0]\n",
            " [  1   4  84   2   2   0   2   4   6   1]\n",
            " [  0   2   0  84   0   6   0   2   3   0]\n",
            " [  0   0   1   0  78   0   0   2   0  11]\n",
            " [  2   0   0   1   1  77   5   0   2   0]\n",
            " [  1   2   1   0   1   2  94   0   1   0]\n",
            " [  0   1   1   0   0   0   0  96   0   4]\n",
            " [  1   5   4   3   1   3   0   1  72   4]\n",
            " [  0   1   0   0   3   2   0   7   0  82]]\n"
          ],
          "name": "stdout"
        },
        {
          "output_type": "display_data",
          "data": {
            "image/png": "[encoded data removed]",
            "text/plain": [
              "<Figure size 720x72 with 14 Axes>"
            ]
          },
          "metadata": {
            "tags": [],
            "needs_background": "light"
          }
        }
      ]
    },
    {
      "cell_type": "markdown",
      "metadata": {
        "id": "T2EW3JKUAz96"
      },
      "source": [
        "ANSWER: Which pair of digits does the model confuse most often? \n",
        "\n",
        "The Number 4 and 9 are the most confuesed in this dataset wtih a sum of 14 images confused. "
      ]
    },
    {
      "cell_type": "markdown",
      "metadata": {
        "id": "tgqMKb-hhWAh"
      },
      "source": [
        "### Part 6:\n",
        "\n",
        "A common image processing technique is to smooth an image by blurring. The idea is that the value of a particular pixel is estimated as the weighted combination of the original value and the values around it. Typically, the blurring is Gaussian, i.e., the weight of a pixel's influence is determined by a Gaussian function over the distance to the relevant pixel.\n",
        "\n",
        "Implement a simplified Gaussian blur filter by just using the 8 neighboring pixels like this: the smoothed value of a pixel is a weighted combination of the original value and the 8 neighboring values.\n",
        "\n",
        "Pick a weight, then produce and evaluate four 1-Nearest Neighbor models by applying your blur filter in these ways:\n",
        "- Do not use the filter\n",
        "- Filter the training data but not the dev data\n",
        "- Filter the dev data but not the training data\n",
        "- Filter both training data and dev data\n",
        "\n",
        "Show the accuracies of the four models evaluated as described.  Try to pick a weight that makes one model's accuracy at least 0.9.\n",
        "\n",
        "Notes:\n",
        "* Train on the (filtered) mini train set.\n",
        "* Evaluate performance on the (filtered) dev set.\n",
        "* There are other Guassian blur filters available, for example in `scipy.ndimage.filters`. You are welcome to experiment with those, but you are likely to get the best results with the simplified version described above."
      ]
    },
    {
      "cell_type": "code",
      "metadata": {
        "id": "lSKHmHGshWAi",
        "colab": {
          "base_uri": "https://localhost:8080/"
        },
        "outputId": "458ca1a8-db2f-4f37-d0ad-a04049bd0343"
      },
      "source": [
        "def P6():\n",
        "    \n",
        "### STUDENT START ###\n",
        "    # Generate 3x3 kernal with weight x for filter\n",
        "    g_filter = build_kernal()\n",
        "\n",
        "    # Apply the Filter to the images\n",
        "    filtered_training_data =gaussian_filter(pad_image(mini_train_data),g_filter)\n",
        "    filtered_dev_data = gaussian_filter(pad_image(dev_data),g_filter)\n",
        "\n",
        "    # Generate KNN Classifier\n",
        "    clf = KNeighborsClassifier()\n",
        "\n",
        "    # Do not use the filter\n",
        "    clf.fit(mini_train_data, mini_train_labels)\n",
        "    print(\"Accuracy Score for No Filter:\", clf.score(dev_data, dev_labels))\n",
        "\n",
        "    # Filter the training data but not the dev data\n",
        "    clf = KNeighborsClassifier()\n",
        "    clf.fit(filtered_training_data, mini_train_labels)\n",
        "    print(\"Accuracy Score for Filtered Training Data Only:\", \n",
        "          clf.score(dev_data, dev_labels))\n",
        "\n",
        "    # Filter the dev data but not the training data\n",
        "    clf = KNeighborsClassifier()\n",
        "    clf.fit(mini_train_data, mini_train_labels)\n",
        "    print(\"Accuracy Score for Filter on Dev Data Only:\", \n",
        "          clf.score(filtered_dev_data, dev_labels))\n",
        "\n",
        "    # Filter both training data and dev data\n",
        "    clf = KNeighborsClassifier()\n",
        "    clf.fit(filtered_training_data, mini_train_labels)\n",
        "    print(\"Accuracy Score for Filtered:\", \n",
        "          clf.score(filtered_dev_data, dev_labels))\n",
        "\n",
        "\n",
        "# Define the 3X3 gaussian kernal\n",
        "def build_kernal(weight = 1):\n",
        "  kernal = [1/16, 1/8, 1/16,\n",
        "            1/8, 1/4, 1/8,\n",
        "            1/16, 1/8, 1/16]\n",
        "\n",
        "  return np.dot(weight,kernal)\n",
        "\n",
        "\n",
        "# Input the array of images and it will output an array of padded\n",
        "# Images results in a 30X30 Matrix\n",
        "def pad_image(image_list):\n",
        "  output = []\n",
        "  for i in range(len(image_list)):\n",
        "    temp = np.array(image_list[i]).reshape(28,28)\n",
        "    temp = np.pad(temp, 1, pad_with)\n",
        "    output.append(temp)\n",
        "\n",
        "  return output\n",
        "\n",
        "\n",
        "# Convolves the array of images with the gaussian_filter\n",
        "def gaussian_filter(image_list, gaussian_filter):\n",
        "  # Build a nested loop function to recures through and recalculated\n",
        "  filtered_image_list = []\n",
        "  for image in range(len(image_list)):\n",
        "    filtered_image = []\n",
        "    for row in range(1,29):\n",
        "      # temp = []\n",
        "      for col in range(1,29):\n",
        "        # Build the sub matrix from the image\n",
        "        sub_matrix = [image_list[image][row-1][col-1],image_list[image][row-1][col], image_list[image][row-1][col+1],\n",
        "                      image_list[image][row][col-1],image_list[image][row][col], image_list[image][row][col+1],\n",
        "                      image_list[image][row+1][col-1],image_list[image][row+1][col], image_list[image][row+1][col+1]]\n",
        "\n",
        "        # Dotproduct the submatrix with the g_filter\n",
        "        filtered_matrix = np.convolve(sub_matrix,gaussian_filter, 'valid')\n",
        "\n",
        "        # Sum matrix and add it to a new row array\n",
        "        # temp.append(filtered_matrix[0])\n",
        "        filtered_image.append(filtered_matrix[0])\n",
        "\n",
        "      #Add to a row array to image array\n",
        "      #filtered_image.append(temp)\n",
        "\n",
        "    # Add new Image array to image list\n",
        "    filtered_image_list.append(filtered_image)\n",
        "  \n",
        "  return filtered_image_list\n",
        "\n",
        "\n",
        "# Pad Numpy Array (Source: Numpy Documentation)\n",
        "# https://numpy.org/devdocs/reference/generated/numpy.pad.html\n",
        "def pad_with(vector, pad_width, iaxis, kwargs):\n",
        "\n",
        "    pad_value = kwargs.get('padder', 0)\n",
        "    vector[:pad_width[0]] = pad_value\n",
        "    vector[-pad_width[1]:] = pad_value\n",
        "\n",
        "\n",
        "### STUDENT END ###\n",
        "\n",
        "P6()"
      ],
      "execution_count": null,
      "outputs": [
        {
          "output_type": "stream",
          "text": [
            "Accuracy Score for No Filter: 0.882\n",
            "Accuracy Score for Filtered Training Data Only: 0.9\n",
            "Accuracy Score for Filter on Dev Data Only: 0.876\n",
            "Accuracy Score for Filtered: 0.903\n"
          ],
          "name": "stdout"
        }
      ]
    },
    {
      "cell_type": "markdown",
      "metadata": {
        "id": "LtgepWfAhWAk"
      },
      "source": [
        "### Part 7:\n",
        "\n",
        "Produce two Naive Bayes models and evaluate their performances.  Recall that Naive Bayes estimates P(feature|label), where each label is a categorical, not a real number.\n",
        "\n",
        "For the first model, map pixel values to either 0 or 1, representing white or black - you should pre-process the data or use `BernoulliNB`'s `binarize` parameter to set the white/black separation threshold to 0.1.  Use `BernoulliNB` to produce the model.\n",
        "\n",
        "For the second model, map pixel values to either 0, 1, or 2, representing white, gray, or black - you should pre-process the data, seting the white/gray/black separation thresholds to 0.1 and 0.9.  Use `MultinomialNB` to produce the model. \n",
        "\n",
        "Show the Bernoulli model accuracy and the Multinomial model accuracy.\n",
        "\n",
        "Notes:\n",
        "* Train on the mini train set.\n",
        "* Evaluate performance on the dev set.\n",
        "* `sklearn`'s Naive Bayes methods can handle real numbers, but for this exercise explicitly do the mapping to categoricals. \n",
        "\n",
        "Does the multinomial version improve the results? Why or why not?"
      ]
    },
    {
      "cell_type": "code",
      "metadata": {
        "id": "eGpH-4IQhWAk",
        "colab": {
          "base_uri": "https://localhost:8080/"
        },
        "outputId": "28805955-6bb6-47d3-9b3d-6626fb6c2b0d"
      },
      "source": [
        "def P7():\n",
        "\n",
        "### STUDENT START ###\n",
        "    # Generate Bernoulli NB Classifier\n",
        "    bnb_class = BernoulliNB(alpha=1.0, binarize=0.1)\n",
        "\n",
        "    # Fit based on mini training data\n",
        "    bnb_class.fit(mini_train_data, mini_train_labels)\n",
        "\n",
        "    # Calculate the performance on the dev data\n",
        "    bnb_score = bnb_class.score(dev_data, dev_labels)\n",
        "\n",
        "    # Preprocess data\n",
        "    mnb_trinerized_data = trinerize(mini_train_data, 0.1, 0.9)\n",
        "\n",
        "    # Build a Confusion Matrix\n",
        "    cm_p7_a = confusion_matrix(dev_labels, bnb_class.predict(dev_data))\n",
        "    print('BernoulliNB')\n",
        "    print(cm_p7_a)\n",
        "    print('')\n",
        "\n",
        "    # Generate Multinomial NB Classifier\n",
        "    mnb_class = MultinomialNB(alpha = 1.0)\n",
        "\n",
        "    # Fit based on mini training data\n",
        "    mnb_class.fit(mnb_trinerized_data, mini_train_labels)\n",
        "\n",
        "    # Calculate the performacne on the dev data\n",
        "    mnb_score = mnb_class.score(dev_data, dev_labels)\n",
        "\n",
        "    # Confustion Matrix for Multinomial\n",
        "    cm_p7_b = confusion_matrix(dev_labels, mnb_class.predict(dev_data))\n",
        "    print('MultinomialNB')\n",
        "    print(cm_p7_b)\n",
        "    print('')\n",
        "\n",
        "    # Print performance\n",
        "    print(\"Performance for Bernoulli NB is:\", bnb_score)\n",
        "    print(\"Performance for Multinomial NB is:\", mnb_score)\n",
        "\n",
        "\n",
        "\n",
        "# Categorize data in to 0, 1, 2 based on threshold\n",
        "def trinerize(data_set, threshold_1, threshold_2):\n",
        "  return_array = []\n",
        "  \n",
        "  for row in range(len(data_set)):\n",
        "    temp = []\n",
        "    for col in range(len(data_set[row])):\n",
        "      if (data_set[row][col] <= threshold_1):\n",
        "        temp.append(0)\n",
        "      elif (data_set[row][col] >= threshold_2):\n",
        "        temp.append(2)\n",
        "      else:\n",
        "        temp.append(1)\n",
        "    return_array.append(temp)\n",
        "\n",
        "  return return_array\n",
        "\n",
        "# Categorize data in to 0, 1, 2 based on threshold\n",
        "def binerize(data_set, threshold_1):\n",
        "  return_array = []\n",
        "  \n",
        "  for row in range(len(data_set)):\n",
        "    temp = []\n",
        "    for col in range(len(data_set[row])):\n",
        "      if (data_set[row][col] <= threshold_1):\n",
        "        temp.append(0)\n",
        "      else:\n",
        "        temp.append(1)\n",
        "    return_array.append(temp)\n",
        "\n",
        "  return return_array\n",
        "    \n",
        "### STUDENT END ###\n",
        "\n",
        "P7()"
      ],
      "execution_count": null,
      "outputs": [
        {
          "output_type": "stream",
          "text": [
            "BernoulliNB\n",
            "[[ 95   0   2   1   0   4   2   0   2   0]\n",
            " [  0 112   2   1   0   0   0   0   3   0]\n",
            " [  3   1  76   2   6   0   4   3  11   0]\n",
            " [  1   2   5  74   2   2   0   0   8   3]\n",
            " [  0   0   1   0  78   0   2   0   2   9]\n",
            " [  2   0   0  14   3  60   4   0   4   1]\n",
            " [  0   2   2   0   3   3  90   0   2   0]\n",
            " [  1   1   1   0   5   0   0  88   1   5]\n",
            " [  0   5   5   8   1   3   1   0  68   3]\n",
            " [  0   4   0   0   5   0   0   9   4  73]]\n",
            "\n",
            "MultinomialNB\n",
            "[[ 97   0   2   2   1   1   0   0   3   0]\n",
            " [  0 103   3   1   0   0   0   0  11   0]\n",
            " [  3   1  78   2   4   0   4   1  12   1]\n",
            " [  1   2   6  74   2   1   0   0   7   4]\n",
            " [  0   0   0   0  74   0   2   0   2  14]\n",
            " [  2   0   1  11   3  59   4   0   7   1]\n",
            " [  0   2   2   0   2   3  91   0   2   0]\n",
            " [  1   0   2   1   2   0   1  88   2   5]\n",
            " [  0   7   5   7   1   4   0   0  67   3]\n",
            " [  0   3   0   0   8   0   0   3   5  76]]\n",
            "\n",
            "Performance for Bernoulli NB is: 0.814\n",
            "Performance for Multinomial NB is: 0.807\n"
          ],
          "name": "stdout"
        }
      ]
    },
    {
      "cell_type": "markdown",
      "metadata": {
        "id": "zNLrgggohWAm"
      },
      "source": [
        "ANSWER: Does the multinomial version improve the results? Why or why not?\n",
        "\n",
        "The Multinomial version does not improve the results over the Bernoulli model. In previous exercises we determined the numbers 4 and 9 are the most confused on the dataset. The Bernoulli maintains 14 occurrences of misidentification and the Multinomial has 22 occurrences of misidentification. \n",
        " \n",
        "The Bernoulli model converts the pixel to either a black or white, the Multinomial model converts only the top and bottom 10% to black or white and turns the rest  grey. This adds more uncertainty and results in less accurate predictions.\n"
      ]
    },
    {
      "cell_type": "markdown",
      "metadata": {
        "id": "PqjbRLg7hWAm"
      },
      "source": [
        "### Part 8:\n",
        "\n",
        "Search across several values of the LaPlace smoothing parameter (alpha) to find its effect on a Bernoulli Naive Bayes model's performance.  Show the accuracy at each alpha value.\n",
        "\n",
        "Notes:\n",
        "* Set binarization threshold to 0.\n",
        "* Train on the mini train set.\n",
        "* Evaluate performance by 5-fold cross-validation. \n",
        "* Use `GridSearchCV(..., ..., cv=..., scoring='accuracy', iid=False)` to vary alpha and evaluate performance by cross-validation.\n",
        "* Cross-validation is based on partitions of the training data, so results will be a bit different than if you had used the dev set to evaluate performance.\n",
        "\n",
        "What is the best value for alpha? What is the accuracy when alpha is near 0? Is this what you'd expect?"
      ]
    },
    {
      "cell_type": "code",
      "metadata": {
        "id": "0AvZ-Wp3hWAn",
        "colab": {
          "base_uri": "https://localhost:8080/"
        },
        "outputId": "1be85696-6860-44c1-fc66-caba3f626c53"
      },
      "source": [
        "def P8(alphas):\n",
        "\n",
        "### STUDENT START ###\n",
        "    # Call the GridSearch CV funtion and setting parameters\n",
        "    clf = GridSearchCV(BernoulliNB(), \n",
        "                       alphas,\n",
        "                       cv = 5,\n",
        "                       scoring='accuracy',\n",
        "                       iid=False)\n",
        "    \n",
        "    # Train model with mini_train_data\n",
        "    return clf.fit(mini_train_data, mini_train_labels)\n",
        "\n",
        "    #Show results\n",
        "    # nb.cv_results_\n",
        "\n",
        "### STUDENT END ###\n",
        "\n",
        "alphas = {'alpha': [1.0e-10, 0.0001, 0.001, 0.01, 0.1, 0.5, 1.0, 2.0, 10.0]}\n",
        "nb = P8(alphas)\n",
        "print()\n",
        "print(\"Best alpha = \", nb.best_params_)"
      ],
      "execution_count": null,
      "outputs": [
        {
          "output_type": "stream",
          "text": [
            "\n",
            "Best alpha =  {'alpha': 0.001}\n"
          ],
          "name": "stdout"
        },
        {
          "output_type": "stream",
          "text": [
            "/usr/local/lib/python3.6/dist-packages/sklearn/model_selection/_search.py:823: FutureWarning: The parameter 'iid' is deprecated in 0.22 and will be removed in 0.24.\n",
            "  \"removed in 0.24.\", FutureWarning\n"
          ],
          "name": "stderr"
        }
      ]
    },
    {
      "cell_type": "markdown",
      "metadata": {
        "id": "1yEg9keThWAp"
      },
      "source": [
        "ANSWER: What is the best value for alpha? What is the accuracy when alpha is near 0? Is this what you'd expect?\n",
        "\n",
        "The best value for alpha for this data set is 0.001. When the alpha is near 0, the model performs similarly to an alpha between 0.1 and 0.5. This is expected as an alpha near 0 is essentially a model with no smoothing and a high alpha is a model with a higher smoothing rate. Smoothing helps generalize the model to perform better when it is exposed to new data by adjusting the probabilities to increase consideration to under-represented events in the data. Therefore we would expect a model with little to no smoothing or too much smoothing not perform as well as a model with just enough smoothing."
      ]
    },
    {
      "cell_type": "markdown",
      "metadata": {
        "id": "B07GDiDdhWAq"
      },
      "source": [
        "### Part 9:\n",
        "\n",
        "Produce a model using Guassian Naive Bayes, which is intended for real-valued features, and evaluate performance. You will notice that it does not work so well. Diagnose the problem and apply a simple fix so that the model accuracy is around the same as for a Bernoulli Naive Bayes model. Show the model accuracy before your fix and the model accuracy after your fix.  Explain your solution.\n",
        "\n",
        "Notes:\n",
        "* Train on the mini train set.\n",
        "* Evaluate performance on the dev set.\n",
        "* Consider the effects of theta and sigma.  These are stored in the model's `theta_` and `sigma_` attributes."
      ]
    },
    {
      "cell_type": "code",
      "metadata": {
        "id": "gBLbTMWChWAq",
        "colab": {
          "base_uri": "https://localhost:8080/",
          "height": 316
        },
        "outputId": "25b95f7d-34bb-4ab6-b4bf-2337216cc3bc"
      },
      "source": [
        "def P9():\n",
        "\n",
        "### STUDENT END ###\n",
        "    # Create the model object\n",
        "    clf = GaussianNB()\n",
        "\n",
        "    # Train the model\n",
        "    clf.fit(mini_train_data, mini_train_labels)\n",
        "\n",
        "    # Evaluate Raw GNB Model\n",
        "    gnb_score = clf.score(dev_data, dev_labels)\n",
        "\n",
        "    # Attempted - Log Transform of data -> failed, errored due to 0 transformed\n",
        "    #             to undefined\n",
        "    # Attempted - Log transform of theta and sigma -> yielded 0.11\n",
        "    # Attempted - Bionerization -> Improved score to 0.6\n",
        "\n",
        "    # Identify the best smoothing attribute\n",
        "    vs = {'var_smoothing': np.linspace(.01, 1, 100)}\n",
        "    clf = GridSearchCV(GaussianNB(), \n",
        "                       vs,\n",
        "                       cv = 5,\n",
        "                       scoring='accuracy',\n",
        "                       iid=False)\n",
        "    \n",
        "    clf.fit(mini_train_data, mini_train_labels)\n",
        "\n",
        "    best_param = clf.best_params_\n",
        "\n",
        "    #Train new model\n",
        "    clf_b = GaussianNB(var_smoothing=0.04)\n",
        "    clf_b.fit(mini_train_data, mini_train_labels)\n",
        "\n",
        "    gnb_tran_score = clf_b.score(dev_data, dev_labels)\n",
        "\n",
        "\n",
        "    print(\"Raw Score:\", gnb_score)\n",
        "    print('Best smoothing value=:', best_param)\n",
        "    print('Post Fix (smoothing) Score:', gnb_tran_score)\n",
        "\n",
        "### STUDENT END ###\n",
        "\n",
        "P9()"
      ],
      "execution_count": null,
      "outputs": [
        {
          "output_type": "error",
          "ename": "NameError",
          "evalue": "ignored",
          "traceback": [
            "\u001b[0;31m---------------------------------------------------------------------------\u001b[0m",
            "\u001b[0;31mNameError\u001b[0m                                 Traceback (most recent call last)",
            "\u001b[0;32m<ipython-input-1-f7f51355769d>\u001b[0m in \u001b[0;36m<module>\u001b[0;34m()\u001b[0m\n\u001b[1;32m     41\u001b[0m \u001b[0;31m### STUDENT END ###\u001b[0m\u001b[0;34m\u001b[0m\u001b[0;34m\u001b[0m\u001b[0;34m\u001b[0m\u001b[0m\n\u001b[1;32m     42\u001b[0m \u001b[0;34m\u001b[0m\u001b[0m\n\u001b[0;32m---> 43\u001b[0;31m \u001b[0mP9\u001b[0m\u001b[0;34m(\u001b[0m\u001b[0;34m)\u001b[0m\u001b[0;34m\u001b[0m\u001b[0;34m\u001b[0m\u001b[0m\n\u001b[0m",
            "\u001b[0;32m<ipython-input-1-f7f51355769d>\u001b[0m in \u001b[0;36mP9\u001b[0;34m()\u001b[0m\n\u001b[1;32m      3\u001b[0m \u001b[0;31m### STUDENT END ###\u001b[0m\u001b[0;34m\u001b[0m\u001b[0;34m\u001b[0m\u001b[0;34m\u001b[0m\u001b[0m\n\u001b[1;32m      4\u001b[0m     \u001b[0;31m# Create the model object\u001b[0m\u001b[0;34m\u001b[0m\u001b[0;34m\u001b[0m\u001b[0;34m\u001b[0m\u001b[0m\n\u001b[0;32m----> 5\u001b[0;31m     \u001b[0mclf\u001b[0m \u001b[0;34m=\u001b[0m \u001b[0mGaussianNB\u001b[0m\u001b[0;34m(\u001b[0m\u001b[0;34m)\u001b[0m\u001b[0;34m\u001b[0m\u001b[0;34m\u001b[0m\u001b[0m\n\u001b[0m\u001b[1;32m      6\u001b[0m \u001b[0;34m\u001b[0m\u001b[0m\n\u001b[1;32m      7\u001b[0m     \u001b[0;31m# Train the model\u001b[0m\u001b[0;34m\u001b[0m\u001b[0;34m\u001b[0m\u001b[0;34m\u001b[0m\u001b[0m\n",
            "\u001b[0;31mNameError\u001b[0m: name 'GaussianNB' is not defined"
          ]
        }
      ]
    },
    {
      "cell_type": "markdown",
      "metadata": {
        "id": "1SyHTEJohWAt"
      },
      "source": [
        "ANSWER: Explain your solution.\n",
        "\n",
        "The GaussianNB model is based on the Normal distribution and is a better fit with continuous data. Since our data is fairly concentrated near 0 and 256 (representing grey scale in the images) it creates a high, narrow distribution. The Variance Smoothing adds the defined variance (in our case 0.04) to the distributions variance, thus widening the curve."
      ]
    },
    {
      "cell_type": "markdown",
      "metadata": {
        "id": "dgZMuc1VhWAt"
      },
      "source": [
        "### Part 10:\n",
        "\n",
        "Because Naive Bayes produces a generative model, you can use it to generate digit images.\n",
        "\n",
        "Produce a Bernoulli Naive Bayes model and then use it to generate a 10x20 grid with 20 example images of each digit. Each pixel output should be either 0 or 1, based on comparing some randomly generated number to the estimated probability of the pixel being either 0 or 1.  Show the grid.\n",
        "\n",
        "Notes:\n",
        "* You can use np.random.rand() to generate random numbers from a uniform distribution.\n",
        "* The estimated probability of each pixel being 0 or 1 is stored in the model's `feature_log_prob_` attribute. You can use `np.exp()` to convert a log probability back to a probability.\n",
        "\n",
        "How do the generated digit images compare to the training digit images?"
      ]
    },
    {
      "cell_type": "code",
      "metadata": {
        "id": "ktii-Mp-hWAu",
        "colab": {
          "base_uri": "https://localhost:8080/",
          "height": 574
        },
        "outputId": "74343b36-7d0b-42dd-9986-ed0d8a7266e9"
      },
      "source": [
        "def P10(num_examples):\n",
        "\n",
        "### STUDENT START ###\n",
        "    # Generate and train model\n",
        "    clf = BernoulliNB(alpha=0.001, binarize=0.1)\n",
        "    clf.fit(train_data, train_labels)\n",
        "\n",
        "    # Create plot object for images\n",
        "    fig, ax = plt.subplots(10, 20, figsize = (20,10))\n",
        "\n",
        "    # Loop to generate random numbers, compare to probabilities, and generate\n",
        "    # image plot.\n",
        "    for i in range(10):\n",
        "      for j in range(20):\n",
        "        # Pull probability from number i\n",
        "        probabilities = np.exp(clf.feature_log_prob_[i])\n",
        "\n",
        "        # Generate random numbers betweeen 0-1\n",
        "        rn = np.random.rand(1,len(probabilities))[0]\n",
        "\n",
        "        # Compare probabilities of numbers to random numbers, turn pixel either\n",
        "        # Black or White\n",
        "        image = []\n",
        "        for index in range(len(rn)):\n",
        "          if (rn[index] > probabilities[index]):\n",
        "            image.append(0)\n",
        "          else: \n",
        "            image.append(1)\n",
        "\n",
        "        # Convert array to an np array for display\n",
        "        image = np.array(image)\n",
        "\n",
        "        # Generate image from pixle array\n",
        "        ax[i,j].imshow(image.reshape(28, 28))\n",
        "        ax[i,j].axis('off')\n",
        "        plt.rc('image', cmap='binary', interpolation='none')\n",
        "\n",
        "    plt.show();\n",
        "\n",
        "### STUDENT END ###\n",
        "\n",
        "P10(20)"
      ],
      "execution_count": null,
      "outputs": [
        {
          "output_type": "display_data",
          "data": {
            "image/png": "[encoded data removed]",
            "text/plain": [
              "<Figure size 1440x720 with 200 Axes>"
            ]
          },
          "metadata": {
            "tags": [],
            "needs_background": "light"
          }
        }
      ]
    },
    {
      "cell_type": "markdown",
      "metadata": {
        "id": "SuQd1fTGhWAw"
      },
      "source": [
        "ANSWER:How do the generated digit images compare to the training digit images?\n",
        "\n",
        "There is a general sense of the number image, compared to the training images, however the images are \"fuzzy\" at best. I believe this is due to the randomly generated array and the probabilistic nature of the classifier. \n"
      ]
    },
    {
      "cell_type": "markdown",
      "metadata": {
        "id": "ksHMg73uhWAx"
      },
      "source": [
        "### Part 11:\n",
        "\n",
        "Recall that a strongly calibrated classifier is rougly 90% accurate when the posterior probability of the predicted class is 0.9. A weakly calibrated classifier is more accurate when the posterior probability of the predicted class is 90% than when it is 80%. A poorly calibrated classifier has no positive correlation between posterior probability and accuracy.  \n",
        "\n",
        "Produce a Bernoulli Naive Bayes model.  Evaluate performance: partition the dev set into several buckets based on the posterior probabilities of the predicted classes - think of a bin in a histogram- and then estimate the accuracy for each bucket. So, for each prediction, find the bucket to which the maximum posterior probability belongs, and update \"correct\" and \"total\" counters accordingly.  Show the accuracy for each bucket.\n",
        "\n",
        "Notes:\n",
        "* Set LaPlace smoothing (alpha) to the optimal value (from part 8).\n",
        "* Set binarization threshold to 0.\n",
        "* Train on the mini train set.\n",
        "* Evaluate perfromance on the dev set.\n",
        "\n",
        "How would you characterize the calibration for this Bernoulli Naive Bayes model?"
      ]
    },
    {
      "cell_type": "code",
      "metadata": {
        "id": "a1N-St12hWAy",
        "colab": {
          "base_uri": "https://localhost:8080/"
        },
        "outputId": "c97ac516-5883-46b4-a301-5a2389e39e7f"
      },
      "source": [
        "def P11(buckets, correct, total):\n",
        "    \n",
        "### STUDENT START ###\n",
        "    clf = BernoulliNB(alpha=0.001, binarize=0)\n",
        "    clf.fit(mini_train_data, mini_train_labels)\n",
        "\n",
        "    # Retrieve the probabilities the image is a specific number\n",
        "    prob_dump = clf.predict_proba(dev_data)\n",
        "\n",
        "    # Pull the maximum probability, this is the prediction\n",
        "    posterior = np.max(prob_dump, axis = 1)\n",
        "\n",
        "    # Pull the index of the maximum probability, this will be the label\n",
        "    posterior_label = np.argmax(prob_dump, axis = 1)\n",
        "\n",
        "    # Iterate over list\n",
        "    for index in range(len(posterior)):\n",
        "      for bucket in range(1, len(buckets)):\n",
        "        if (posterior[index] > buckets[bucket-1] and\n",
        "            posterior[index] <= buckets[bucket]):\n",
        "          total[bucket] += 1\n",
        "          \n",
        "          # Test to see if the labels match\n",
        "          if (posterior_label[index] == int(dev_labels[index])):\n",
        "            correct[bucket] += 1\n",
        "\n",
        "                \n",
        "### STUDENT END ###\n",
        "\n",
        "buckets = [0.5, 0.9, 0.999, 0.99999, 0.9999999, 0.999999999, 0.99999999999, 0.9999999999999, 1.0]\n",
        "correct = [0 for i in buckets]\n",
        "total = [0 for i in buckets]\n",
        "\n",
        "P11(buckets, correct, total)\n",
        "\n",
        "for i in range(len(buckets)):\n",
        "     accuracy = 0.0\n",
        "     if (total[i] > 0): accuracy = correct[i] / total[i]\n",
        "     print('p(pred) is %.13f to %.13f    total = %3d    accuracy = %.3f' % (0 if i==0 else buckets[i-1], buckets[i], total[i], accuracy))"
      ],
      "execution_count": null,
      "outputs": [
        {
          "output_type": "stream",
          "text": [
            "p(pred) is 0.0000000000000 to 0.5000000000000    total =   0    accuracy = 0.000\n",
            "p(pred) is 0.5000000000000 to 0.9000000000000    total =  31    accuracy = 0.355\n",
            "p(pred) is 0.9000000000000 to 0.9990000000000    total =  67    accuracy = 0.433\n",
            "p(pred) is 0.9990000000000 to 0.9999900000000    total =  59    accuracy = 0.458\n",
            "p(pred) is 0.9999900000000 to 0.9999999000000    total =  46    accuracy = 0.652\n",
            "p(pred) is 0.9999999000000 to 0.9999999990000    total =  62    accuracy = 0.774\n",
            "p(pred) is 0.9999999990000 to 0.9999999999900    total =  33    accuracy = 0.788\n",
            "p(pred) is 0.9999999999900 to 0.9999999999999    total =  43    accuracy = 0.791\n",
            "p(pred) is 0.9999999999999 to 1.0000000000000    total = 659    accuracy = 0.938\n"
          ],
          "name": "stdout"
        }
      ]
    },
    {
      "cell_type": "markdown",
      "metadata": {
        "id": "h-4qQsrrhWA1"
      },
      "source": [
        "ANSWER: How would you characterize the calibration for this Bernoulli Naive Bayes model?\n",
        "\n",
        "I would classify the Bernoulli Naive Bayes model as a weakly calibrated classifier indicated by the accuracy breakdown noted above. As the buckets of probability approach 1, the accuracy of the model improves. "
      ]
    },
    {
      "cell_type": "markdown",
      "metadata": {
        "id": "jLDISyh4hWA1"
      },
      "source": [
        "### Part 12 EXTRA CREDIT:\n",
        "\n",
        "Design new features to see if you can produce a Bernoulli Naive Bayes model with better performance.  Show the accuracy of a model based on the original features and the accuracy of the model based on the new features.\n",
        "\n",
        "Here are a few ideas to get you started:\n",
        "- Try summing or averaging the pixel values in each row.\n",
        "- Try summing or averaging the pixel values in each column.\n",
        "- Try summing or averaging the pixel values in each square block. (pick various block sizes)\n",
        "- Try counting the number of enclosed regions. (8 usually has 2 enclosed regions, 9 usually has 1, and 7 usually has 0)\n",
        "\n",
        "Notes:\n",
        "* Train on the mini train set (enhanced to comprise the new features).\n",
        "* Evaulate performance on the dev set.\n",
        "* Ensure that your code is well commented."
      ]
    },
    {
      "cell_type": "code",
      "metadata": {
        "id": "-P7h-t2ThWA2"
      },
      "source": [
        "#def P12():\n",
        "\n",
        "### STUDENT START ###\n",
        "\n",
        "\n",
        "### STUDENT END ###\n",
        "\n",
        "#P12()"
      ],
      "execution_count": null,
      "outputs": []
    }
  ]
}