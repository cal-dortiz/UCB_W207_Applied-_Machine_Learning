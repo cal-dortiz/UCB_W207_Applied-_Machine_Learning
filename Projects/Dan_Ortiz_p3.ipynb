{
  "nbformat": 4,
  "nbformat_minor": 0,
  "metadata": {
    "colab": {
      "name": "Dan_Ortiz_p3.ipynb",
      "private_outputs": true,
      "provenance": [],
      "collapsed_sections": []
    },
    "kernelspec": {
      "display_name": "Python 3",
      "language": "python",
      "name": "python3"
    },
    "language_info": {
      "codemirror_mode": {
        "name": "ipython",
        "version": 3
      },
      "file_extension": ".py",
      "mimetype": "text/x-python",
      "name": "python",
      "nbconvert_exporter": "python",
      "pygments_lexer": "ipython3",
      "version": "3.6.5"
    },
    "toc": {
      "base_numbering": 1,
      "nav_menu": {},
      "number_sections": false,
      "sideBar": true,
      "skip_h1_title": true,
      "title_cell": "Table of Contents",
      "title_sidebar": "Contents",
      "toc_cell": false,
      "toc_position": {},
      "toc_section_display": true,
      "toc_window_display": false
    }
  },
  "cells": [
    {
      "cell_type": "markdown",
      "metadata": {
        "id": "4r1L69aGoZG0"
      },
      "source": [
        "# Project 3: Poisonous Mushrooms"
      ]
    },
    {
      "cell_type": "markdown",
      "metadata": {
        "id": "btVARsAroZG1"
      },
      "source": [
        "In this project, you'll investigate properties of mushrooms. This classic dataset contains over 8000 examples, where each describes a mushroom by a variety of features like color, odor, etc., and the target variable is an indicator for whether the mushroom is poisonous. The feature space has been binarized. Look at the feature_names below to see all 126 binary names.\n",
        "\n",
        "You'll start by running PCA to reduce the dimensionality from 126 down to 2 so that you can easily visualize the data. In general, PCA is very useful for visualization (though sklearn.manifold.tsne is known to produce better visualizations). Recall that PCA is a linear transformation. The 1st projected dimension is the linear combination of all 126 original features that captures as much of the variance in the data as possible. The 2nd projected dimension is the linear combination of all 126 original features that captures as much of the remaining variance as possible. The idea of dense low dimensional representations is crucial to machine learning!\n",
        "\n",
        "Once you've projected the data to 2 dimensions, you'll experiment with clustering using k-means and density estimation with Gaussian mixture models (GMM). Finally, you'll train a classifier by fitting a GMM for the positive class and a GMM for the negative class, and perform inference by comparing the probabilities output by each model.\n",
        "\n",
        "As always, you're welcome to work on the project in groups and discuss ideas on the course wall, but please **prepare your own write-up and write your own code**."
      ]
    },
    {
      "cell_type": "code",
      "metadata": {
        "id": "YDvuh15loZG2"
      },
      "source": [
        "%matplotlib inline\n",
        "\n",
        "import urllib.request as urllib2 # For python3\n",
        "import numpy as np\n",
        "import matplotlib.pyplot as plt\n",
        "from sklearn import metrics\n",
        "from sklearn.decomposition import PCA\n",
        "from sklearn.cluster import KMeans\n",
        "from sklearn.mixture import GaussianMixture\n",
        "from matplotlib.colors import LogNorm"
      ],
      "execution_count": null,
      "outputs": []
    },
    {
      "cell_type": "code",
      "metadata": {
        "id": "JKyn8WO1pJwK"
      },
      "source": [
        "MUSHROOM_DATA = 'https://raw.githubusercontent.com/UCB-MIDS/207-Applied-Machine-Learning/master/Data/mushroom.data'\n",
        "MUSHROOM_MAP = 'https://raw.githubusercontent.com/UCB-MIDS/207-Applied-Machine-Learning/master/Data/mushroom.map'"
      ],
      "execution_count": null,
      "outputs": []
    },
    {
      "cell_type": "markdown",
      "metadata": {
        "id": "28FIvBtVoZG4"
      },
      "source": [
        "Load feature names."
      ]
    },
    {
      "cell_type": "code",
      "metadata": {
        "id": "zXUv_S1YoZG4"
      },
      "source": [
        "feature_names = []\n",
        "\n",
        "for line in urllib2.urlopen(MUSHROOM_MAP):\n",
        "    [index, name, junk] = line.decode('utf-8').split()\n",
        "    feature_names.append(name)\n",
        "\n",
        "print('Loaded feature names: ', len(feature_names))\n",
        "print(feature_names)"
      ],
      "execution_count": null,
      "outputs": []
    },
    {
      "cell_type": "markdown",
      "metadata": {
        "id": "k034gVFboZHA"
      },
      "source": [
        "Load data. The dataset is sparse, but there aren't too many features, so we'll use a dense representation, which is supported by all sklearn objects."
      ]
    },
    {
      "cell_type": "code",
      "metadata": {
        "id": "gg6IVy0loZHA"
      },
      "source": [
        "X, Y = [], []\n",
        "\n",
        "for line in urllib2.urlopen(MUSHROOM_DATA):\n",
        "    items = line.decode('utf-8').split()\n",
        "    Y.append(int(items.pop(0)))\n",
        "    x = np.zeros(len(feature_names))\n",
        "    for item in items:\n",
        "        feature = int(str(item).split(':')[0])\n",
        "        x[feature] = 1\n",
        "    X.append(x)\n",
        "\n",
        "# Convert these lists to numpy arrays.\n",
        "X = np.array(X)\n",
        "Y = np.array(Y)\n",
        "\n",
        "# Split into train and test data.\n",
        "train_data, train_labels = X[:7000], Y[:7000]\n",
        "test_data, test_labels = X[7000:], Y[7000:]\n",
        "\n",
        "# Check that the shapes look right.\n",
        "print(train_data.shape, test_data.shape)"
      ],
      "execution_count": null,
      "outputs": []
    },
    {
      "cell_type": "markdown",
      "metadata": {
        "id": "nr25XV7BoZHC"
      },
      "source": [
        "### Part 1:\n",
        "\n",
        "Do a principal components analysis on the data. Show what fraction of the total variance in the training data is explained by the first k principal components, for k in [1, 2, 3, 4, 5, 10, 20, 30, 40, 50].  Also show a lineplot of fraction of total variance vs. number of principal components, for all possible numbers of principal components.\n",
        "\n",
        "Notes:\n",
        "* You can use `PCA` to produce a PCA analysis."
      ]
    },
    {
      "cell_type": "code",
      "metadata": {
        "id": "frHUWcZUoZHC"
      },
      "source": [
        "def P1():\n",
        "\n",
        "### STUDENT START ###\n",
        "    # Refferance https://towardsdatascience.com/principal-component-analysis-pca-with-scikit-learn-1e84a0c731b0\n",
        "\n",
        "    # Set principle components (k) and Total Variance array\n",
        "    k = [1, 2, 3, 4, 5, 10, 20, 30, 40, 50]\n",
        "    var =[]\n",
        "\n",
        "    # Calculate Total Variance for K\n",
        "    for i in k:\n",
        "        p1_pca = PCA(n_components=i)\n",
        "        p1_pca.fit_transform(train_data)\n",
        "        temp = np.sum(p1_pca.explained_variance_ratio_)\n",
        "        var.append(temp)\n",
        "\n",
        "        print(\"Total Variance for k=\", i, \"is\", temp)\n",
        "\n",
        "    # Plot Fraction of Total Variance vs Number of Principal Components\n",
        "    j = list(range(126))\n",
        "    var = []\n",
        "    for i in j:\n",
        "        p1_pca = PCA(n_components=i)\n",
        "        p1_pca.fit_transform(train_data)\n",
        "        temp = np.sum(p1_pca.explained_variance_ratio_)\n",
        "        var.append(temp)\n",
        "\n",
        "    plt.plot(j,var)\n",
        "    plt.xlabel('Number of Components')\n",
        "    plt.ylabel('Fraction of Total Variance')\n",
        "\n",
        "### STUDENT END ###\n",
        "\n",
        "P1()"
      ],
      "execution_count": null,
      "outputs": []
    },
    {
      "cell_type": "markdown",
      "metadata": {
        "id": "zbGl1D3RoZHE"
      },
      "source": [
        "### Part 2:\n",
        "\n",
        "PCA can be very useful for visualizing data. Project the training data down to 2 dimensions and show as a square scatterplot. Show the positive (poisonous) examples in red and the negative (non-poisonous) examples in green. Here's a reference for plotting: http://matplotlib.org/users/pyplot_tutorial.html\n",
        "\n",
        "Notes:\n",
        "* You can use `PCA` to produce a PCA analysis."
      ]
    },
    {
      "cell_type": "code",
      "metadata": {
        "id": "ZqPswXVloZHE"
      },
      "source": [
        "def P2():\n",
        "\n",
        "### STUDENT START ###\n",
        "    \n",
        "    # Reduce the data to two dimensions\n",
        "    p2_pca = PCA(n_components=2)\n",
        "    x_p2_pca = p2_pca.fit_transform(train_data)\n",
        "\n",
        "\n",
        "    # How do i determine what is negitive?\n",
        "    # Set the colors based on labels\n",
        "    label_color_dict = {1:'red', 0:'green'}\n",
        "\n",
        "    # Color vector creation\n",
        "    cvec = [label_color_dict[label] for label in train_labels]\n",
        "\n",
        "    # Plot\n",
        "    plt.figure(figsize=(10,7))\n",
        "    plt.scatter(x = x_p2_pca[:, 0],\n",
        "                y = x_p2_pca[:, 1],\n",
        "                marker = 's',\n",
        "                c=cvec,\n",
        "                alpha = 0.2)\n",
        "    plt.title(\"2D Scatterplot: 29.73% of Variability Captured\")\n",
        "    plt.xlabel(\"First Principal Component\")\n",
        "    plt.ylabel(\"Second Principal Component\")\n",
        "\n",
        "    plt.show()\n",
        "\n",
        "\n",
        "### STUDENT END ###\n",
        "\n",
        "P2()"
      ],
      "execution_count": null,
      "outputs": []
    },
    {
      "cell_type": "markdown",
      "metadata": {
        "id": "yuHTFCyNoZHG"
      },
      "source": [
        "### Part 3:\n",
        "\n",
        "Fit a k-means cluster model with 6 clusters over the 2d projected data. As in part 2, show as a square scatterplot with the positive (poisonous) examples in red and the negative (non-poisonous) examples in green.  For each cluster, mark the centroid and plot a circle that goes through the cluster's example that is most distant from the centroid.\n",
        "\n",
        "Notes:\n",
        "* You can use `KMeans` to produce a k-means cluster analysis.\n",
        "* You can use `linalg.norm` to determine distance (dissimilarity) between observations."
      ]
    },
    {
      "cell_type": "code",
      "metadata": {
        "id": "gJcVJnkPoZHG"
      },
      "source": [
        "def P3():\n",
        "\n",
        "### STUDENT START ###\n",
        "    # Reduce the data to two dimensions\n",
        "    p3_pca = PCA(n_components=2)\n",
        "    train_p3_pca = p3_pca.fit_transform(train_data)\n",
        "\n",
        "    # Train the Model\n",
        "    k_means = KMeans(n_clusters = 6)\n",
        "    k_means.fit_transform(train_p3_pca)\n",
        "\n",
        "    # Get the Centerpoint of the clusters\n",
        "    centroids = k_means.cluster_centers_\n",
        "\n",
        "    # Get Cluster Labels\n",
        "    cluster_label = k_means.labels_\n",
        "\n",
        "    # Calculate Radi\n",
        "    clustered_data = [[0 for i in range(0)] for j in range(6)]\n",
        "    for index, label in enumerate(cluster_label):\n",
        "      clustered_data[label].append(np.linalg.norm(train_p3_pca[index] - centroids[label]))\n",
        "\n",
        "    #Get max of each list\n",
        "    max_rad = []\n",
        "    for i in range(len(clustered_data)):\n",
        "      max_rad.append(max(clustered_data[i]))\n",
        "\n",
        "    # Set the colors based on labels\n",
        "    label_color_dict = {1:'red', 0:'green'}\n",
        "\n",
        "    # Color vector creation\n",
        "    cvec = [label_color_dict[label] for label in train_labels]\n",
        "\n",
        "    # Plot\n",
        "    #plt.figure(figsize=(10,7))\n",
        "    fig, ax = plt.subplots(figsize=(10,10))\n",
        "    plt.scatter(x = train_p3_pca[:, 0],\n",
        "                y = train_p3_pca[:, 1],\n",
        "                marker = 's',\n",
        "                c=cvec,\n",
        "                alpha = 0.2)\n",
        "    plt.scatter(centroids[:,0],\n",
        "                centroids[:,1],\n",
        "                s = 80,\n",
        "                color = 'black',\n",
        "                marker = '+')\n",
        "    for i in range(len(max_rad)):\n",
        "      circles = plt.Circle((centroids[i][0],\n",
        "                            centroids[i][1]),\n",
        "                            max_rad[i],\n",
        "                            fill = False,\n",
        "                            color = 'black')\n",
        "      ax.add_patch(circles)\n",
        "    plt.title(\"2D Scatterplot\")\n",
        "    plt.xlabel(\"First Principal Component\")\n",
        "    plt.ylabel(\"Second Principal Component\")\n",
        "\n",
        "    plt.show()\n",
        "    \n",
        "### STUDENT END ###\n",
        "\n",
        "P3()"
      ],
      "execution_count": null,
      "outputs": []
    },
    {
      "cell_type": "markdown",
      "metadata": {
        "id": "v4dXc_VloZHI"
      },
      "source": [
        "### Part 4:\n",
        "\n",
        "Fit Gaussian mixture models for the positive (poisonous) examples in your 2d projected data. Vary the number of mixture components from 1 to 4 and the covariance matrix type 'spherical', 'diag', 'tied', 'full' (that's 16 models).  Show square plots of the estimated density contours presented in a 4x4 grid - one row each for a number of mixture components and one column each for a convariance matrix type.  \n",
        "\n",
        "Notes:\n",
        "* You can use `GaussianMixture(n_components=..., covariance_type=..., random_state=12345)` to produce a Gaussian mixture model.\n",
        "* You can use `contour` in combination with other methods to plot contours, like in this example: http://scikit-learn.org/stable/auto_examples/mixture/plot_gmm_pdf.html#example-mixture-plot-gmm-pdf-py\n",
        "* You can use `contour` without the `norm` and `levels` parameters. "
      ]
    },
    {
      "cell_type": "code",
      "metadata": {
        "id": "ZJSPb5gioZHI"
      },
      "source": [
        "def P4():\n",
        "\n",
        "### STUDENT START ###\n",
        "    # Define variables provided\n",
        "    components = [1,2,3,4]\n",
        "    matrix_type = [ 'spherical', 'diag', 'tied', 'full' ]\n",
        "\n",
        "    # Get the poisonous data (train_label = 0)\n",
        "    p4_pca = PCA(n_components=2)\n",
        "    train_p4_pca = p4_pca.fit_transform(train_data)\n",
        "    poisonous = []\n",
        "    for index, label in enumerate(train_labels):\n",
        "      if label == 1:\n",
        "        poisonous.append(train_p4_pca[index])\n",
        "\n",
        "    poisonous = np.array(poisonous)\n",
        "\n",
        "    # Initialize Plot\n",
        "    fig, ax = plt.subplots(len(components),\n",
        "                           len(matrix_type),\n",
        "                           figsize = (20,25))\n",
        "\n",
        "    # Build Models\n",
        "    for i_index, component in enumerate(components):\n",
        "      for j_index, matrix in enumerate(matrix_type):\n",
        "\n",
        "        # Train the Model\n",
        "        gmm = GaussianMixture(n_components = component,\n",
        "                              covariance_type = matrix,\n",
        "                              random_state=12345)\n",
        "        gmm.fit(poisonous)\n",
        "\n",
        "        # Build Visualization (From documentation)\n",
        "        x = np.linspace(-3., 3.)\n",
        "        y = np.linspace(-3., 3.)\n",
        "        X, Y = np.meshgrid(x, y)\n",
        "        XX = np.array([X.ravel(), Y.ravel()]).T\n",
        "        Z = -gmm.score_samples(XX)\n",
        "        Z = Z.reshape(X.shape)\n",
        "\n",
        "        # Plot Visualization\n",
        "        CS = ax[i_index, j_index].contour(X, Y, Z)\n",
        "        #plt.colorbar(CS, shrink=0.8, extend='both')\n",
        "\n",
        "        ax[i_index, j_index].scatter(poisonous[:, 0],\n",
        "                                     poisonous[:, 1],\n",
        "                                     c = 'gray',\n",
        "                                     marker = 's',\n",
        "                                     alpha = 0.2)\n",
        "        ax[i_index, j_index].set_title('{} Components and {} Cov Type'.format(components[i_index], \n",
        "                                                                              matrix_type[j_index]), \n",
        "                                       fontsize = 15)\n",
        "        ax[i_index, j_index].axis('tight')\n",
        "    \n",
        "    plt.show()\n",
        "\n",
        "\n",
        "### STUDENT END ###\n",
        "\n",
        "P4()"
      ],
      "execution_count": null,
      "outputs": []
    },
    {
      "cell_type": "markdown",
      "metadata": {
        "id": "iMcLxdqDoZHL"
      },
      "source": [
        "### Part 5:\n",
        "\n",
        "Fit two Gaussian mixture models, one for the positive examples and one for the negative examples in your 2d projected data. Use 4 mixture components and full convariance for each model.  Predict the test example labels by picking the labels corresponding to the larger of the two models' probabilities.  What is the accuracy of you predictions on the test data?\n",
        "\n",
        "Notes:\n",
        "* You can use `GaussianMixture(n_components=..., covariance_type=..., random_state=12345)` to produce a Gaussian mixture model.\n",
        "* You can use `GaussianMixture`'s `score_samples` method to find the probabilities."
      ]
    },
    {
      "cell_type": "code",
      "metadata": {
        "id": "AOKXtGBzoZHL"
      },
      "source": [
        "def P5():\n",
        "\n",
        "### STUDENT START ###\n",
        "\n",
        "    # Transform the data sets\n",
        "    p5_pca = PCA(n_components=2)\n",
        "    train_p5_pca = p5_pca.fit_transform(train_data)\n",
        "    test_p5_pca = p5_pca.transform(test_data)\n",
        "\n",
        "    neg = []\n",
        "    pos = []\n",
        "\n",
        "    for index, label in enumerate(train_labels):\n",
        "      if label == 1:\n",
        "        neg.append(train_p5_pca[index])\n",
        "      else:\n",
        "        pos.append(train_p5_pca[index])\n",
        "\n",
        "    # Train the models\n",
        "    gmm = GaussianMixture(n_components = 4,\n",
        "                              covariance_type = 'full',\n",
        "                              random_state=12345)\n",
        "    gmm_pos = gmm.fit(pos)\n",
        "\n",
        "    gmm = GaussianMixture(n_components = 4,\n",
        "                              covariance_type = 'full',\n",
        "                              random_state=12345)\n",
        "    \n",
        "    gmm_neg = gmm.fit(neg)\n",
        "\n",
        "    # Predictions\n",
        "    predictions_pos = np.exp(gmm_pos.score_samples(test_p5_pca))\n",
        "    predictions_neg = np.exp(gmm_neg.score_samples(test_p5_pca))\n",
        "  \n",
        "\n",
        "    results = (predictions_pos < predictions_neg)\n",
        "    accuracy = (results == test_labels).sum() / len(test_labels)\n",
        "\n",
        "    print('Accuracy of prediction of test data is', round(accuracy *100,2),'%')\n",
        "\n",
        "\n",
        "### STUDENT END ###\n",
        "\n",
        "P5()"
      ],
      "execution_count": null,
      "outputs": []
    },
    {
      "cell_type": "markdown",
      "metadata": {
        "id": "oWV5Ld70oZHN"
      },
      "source": [
        "### Part 6:\n",
        "\n",
        "Run a series of experiments to find the Gaussian mixture model that results in the best accuracy with no more than 50 parameters.  Do this by varying the number of PCA components, the number of GMM components, and the covariance type.\n",
        "\n",
        "Notes:\n",
        "* You can use `GaussianMixture(n_components=..., covariance_type=..., random_state=12345)` to produce a Gaussian mixture model.\n",
        "\n",
        "\n",
        "* For spherical, diag, and full covariance types:\n",
        "  * number of parameters = (number of parameters per gmm component * number of gmm components - 1) * number of classes\n",
        "  * number of parameters per gmm component includes all the means plus all the non-zero, non-duplicated values in the covariance matrix plus the mixing weight\n",
        "  * Each mixing weight parameter indicates how much to weight a particular gmm component; the -1 above accounts for the fact that the mixing weights must sum to 1, so you do not need to include the last mixing weight as its own parameter\n",
        "\n",
        "\n",
        "* To calculate the number of parameters for tied covariance type:\n",
        "  * number of parameters = (number of parameters per class - 1) * number of classes\n",
        "  * number of parameters per class includes all the means and mixing weights for all the gmm components plus all the non-zero, non-duplicated values in the one shared covariance matrix\n",
        "  * Each mixing weight parameter indicates how much to weight a particular gmm component; the -1 above accounts for the fact that the mixing weights must sum to 1, so you do not need to include the last mixing weight as its own parameter"
      ]
    },
    {
      "cell_type": "code",
      "metadata": {
        "id": "wWCMLsM2oZHN"
      },
      "source": [
        "def P6():\n",
        "\n",
        "### STUDENT START ###\n",
        "    # Define Variables\n",
        "    n_class = 2\n",
        "    pca_components = []\n",
        "    gmm_components = []\n",
        "    cov_t = []\n",
        "    accuracies = []\n",
        "    params = []\n",
        "\n",
        "\n",
        "    # Outer Loop Varies  Number of PCA Components\n",
        "    # 24 Max PCA range which results in spherical param <= 50\n",
        "    for n_pca in range(1, 25): \n",
        "        p6_pca = PCA(n_components=n_pca)\n",
        "        train_p6_pca = p6_pca.fit_transform(train_data)\n",
        "        test_p6_pca = p6_pca.transform(test_data)\n",
        "\n",
        "        neg = []\n",
        "        pos = []\n",
        "\n",
        "        for index, label in enumerate(train_labels):\n",
        "          if label == 1:\n",
        "            neg.append(train_p6_pca[index])\n",
        "          else:\n",
        "            pos.append(train_p6_pca[index])\n",
        "\n",
        "        # Middle loop varies number of GMM components\n",
        "        # 24 max value for tied param <= 50\n",
        "        for n_gmm in range(1, 25):\n",
        "\n",
        "            spher_comp = ((n_pca * n_gmm) + n_gmm) * n_class\n",
        "            diag_comp = ((n_pca * n_gmm) + (n_pca*n_gmm)) * n_class\n",
        "            tied_comp = ((n_pca * n_gmm) + n_pca * (n_pca+1) / 2) * n_class\n",
        "            full_comp = (n_pca*n_gmm + n_pca*(n_pca+1)/2 * n_gmm)*n_class\n",
        "\n",
        "            # Get accuracy for spherical cov_type <= 50 components\n",
        "            if (spher_comp <= 50):\n",
        "                accuracy = get_accuracy(n_gmm, pos, neg, test_p6_pca, 'spherical', test_labels)\n",
        "                pca_components.append(n_pca)\n",
        "                gmm_components.append(n_gmm)\n",
        "                cov_t.append('spherical')\n",
        "                accuracies.append(accuracy)\n",
        "                params.append(spher_comp)\n",
        "\n",
        "            # Get accuracy for diag cov_type <= 50 components\n",
        "            if (diag_comp <= 50):\n",
        "                accuracy = get_accuracy(n_gmm, pos, neg, test_p6_pca, 'diag', test_labels)\n",
        "                pca_components.append(n_pca)\n",
        "                gmm_components.append(n_gmm)\n",
        "                cov_t.append('diag')\n",
        "                accuracies.append(accuracy)\n",
        "                params.append(diag_comp)\n",
        "\n",
        "            # Get accuracy for tied cov_type <= 50 components\n",
        "            if (tied_comp <= 50):\n",
        "                accuracy = get_accuracy(n_gmm, pos, neg, test_p6_pca, 'tied', test_labels)\n",
        "                pca_components.append(n_pca)\n",
        "                gmm_components.append(n_gmm)\n",
        "                cov_t.append('tied')\n",
        "                accuracies.append(accuracy)\n",
        "                params.append(tied_comp)\n",
        "\n",
        "            # Get accuracy for full cov_type <= 50 components\n",
        "            if (full_comp <= 50):\n",
        "                accuracy = get_accuracy(n_gmm, pos, neg, test_p6_pca, 'full', test_labels)\n",
        "                pca_components.append(n_pca)\n",
        "                gmm_components.append(n_gmm)\n",
        "                cov_t.append('full')\n",
        "                accuracies.append(accuracy)\n",
        "                params.append(full_comp)\n",
        "        \n",
        "    max_value = max(accuracies)\n",
        "    max_index = accuracies.index(max_value)\n",
        "\n",
        "    print('Highest Accuracy Model:')\n",
        "    print('pca_comp =', pca_components[max_index], \n",
        "          'gmm_comp =', gmm_components[max_index],\n",
        "          'cov type =', cov_t[max_index],\n",
        "          'number of params =', params[max_index],\n",
        "          'accuracy =', accuracies[max_index]*100, '%')\n",
        "\n",
        "\n",
        "# Helper function calculates and returns the accuracy of the predictions\n",
        "# from the provided data and labels\n",
        "def get_accuracy(n_gmm, pos, neg, test_data, cov_type, test_labels):\n",
        "    # Assess_model\n",
        "    gmm_pos = run_gmm(n_gmm, cov_type, pos)\n",
        "    gmm_neg = run_gmm(n_gmm, cov_type, neg)\n",
        "\n",
        "    # Calculate Accuracies \n",
        "    predictions_pos = np.exp(gmm_pos.score_samples(test_data))\n",
        "    predictions_neg = np.exp(gmm_neg.score_samples(test_data))\n",
        "    results = (predictions_pos < predictions_neg)\n",
        "\n",
        "    return (results == test_labels).sum() / len(test_labels)\n",
        "\n",
        "\n",
        "# Helper function sets up and executed the model\n",
        "def run_gmm(n_gmm, cov_type, data):\n",
        "  gmm = GaussianMixture(n_components = n_gmm, \n",
        "                        covariance_type = cov_type, \n",
        "                        random_state=12345)\n",
        "  \n",
        "  return gmm.fit(data)\n",
        "\n",
        "### STUDENT END ###\n",
        "\n",
        "P6()"
      ],
      "execution_count": null,
      "outputs": []
    }
  ]
}